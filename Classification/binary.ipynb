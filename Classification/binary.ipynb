{
 "cells": [
  {
   "cell_type": "markdown",
   "metadata": {},
   "source": [
    "# Binary Classification"
   ]
  },
  {
   "cell_type": "markdown",
   "metadata": {},
   "source": [
    "# Loading the Dataset\n",
    "***\n",
    "\n",
    "The dataset consists of ecological data collected from Penguins living in Antarctica. The data were made available by Dr. Kristen Gorman and the Palmer Station, Antarctica LTER, a member of the Long Term Ecological Research Network.\n",
    "\n",
    "The goal is to correctly identify Chinstrap Penguin species based on the following attributes:\n",
    "\n",
    "- sex: penguin sex (Male or Female)\n",
    "- island: name of the island (Dream, Torgersen, or Biscoe) in the Palmer Archipelago (Antarctica) where the observation was made\n",
    "- body_mass_g: body mass (g)\n",
    "- flipper_length_mm: flipper length (mm)\n",
    "- culmen_length_mm: culmen length (mm)\n",
    "- culmen_depth_mm: culmen depth (mm)\n",
    "\n",
    "*Note: the culmen is \"the upper ridge of a bird's beak\"*\n",
    "\n",
    "The dataset is provided as the file `2022-a1-penguin-classification.csv` alongside this notebook. "
   ]
  },
  {
   "cell_type": "code",
   "execution_count": 2,
   "metadata": {},
   "outputs": [],
   "source": [
    "## setup notebook\n",
    "import pandas as pd\n",
    "import numpy as np\n",
    "import seaborn as sns\n",
    "import matplotlib.pyplot as plt\n",
    "\n",
    "pd.set_option(\"display.max_columns\", None)\n",
    "%matplotlib inline"
   ]
  },
  {
   "cell_type": "code",
   "execution_count": 3,
   "metadata": {},
   "outputs": [
    {
     "data": {
      "text/html": [
       "<div>\n",
       "<style scoped>\n",
       "    .dataframe tbody tr th:only-of-type {\n",
       "        vertical-align: middle;\n",
       "    }\n",
       "\n",
       "    .dataframe tbody tr th {\n",
       "        vertical-align: top;\n",
       "    }\n",
       "\n",
       "    .dataframe thead th {\n",
       "        text-align: right;\n",
       "    }\n",
       "</style>\n",
       "<table border=\"1\" class=\"dataframe\">\n",
       "  <thead>\n",
       "    <tr style=\"text-align: right;\">\n",
       "      <th></th>\n",
       "      <th>species</th>\n",
       "      <th>island</th>\n",
       "      <th>culmen_length_mm</th>\n",
       "      <th>culmen_depth_mm</th>\n",
       "      <th>flipper_length_mm</th>\n",
       "      <th>body_mass_g</th>\n",
       "      <th>sex</th>\n",
       "    </tr>\n",
       "  </thead>\n",
       "  <tbody>\n",
       "    <tr>\n",
       "      <th>0</th>\n",
       "      <td>Adelie</td>\n",
       "      <td>Torgersen</td>\n",
       "      <td>39.1</td>\n",
       "      <td>18.7</td>\n",
       "      <td>181.0</td>\n",
       "      <td>3750.0</td>\n",
       "      <td>MALE</td>\n",
       "    </tr>\n",
       "    <tr>\n",
       "      <th>1</th>\n",
       "      <td>Adelie</td>\n",
       "      <td>Torgersen</td>\n",
       "      <td>39.5</td>\n",
       "      <td>17.4</td>\n",
       "      <td>186.0</td>\n",
       "      <td>3800.0</td>\n",
       "      <td>FEMALE</td>\n",
       "    </tr>\n",
       "    <tr>\n",
       "      <th>2</th>\n",
       "      <td>Adelie</td>\n",
       "      <td>Torgersen</td>\n",
       "      <td>40.3</td>\n",
       "      <td>18.0</td>\n",
       "      <td>195.0</td>\n",
       "      <td>3250.0</td>\n",
       "      <td>FEMALE</td>\n",
       "    </tr>\n",
       "    <tr>\n",
       "      <th>3</th>\n",
       "      <td>Adelie</td>\n",
       "      <td>Torgersen</td>\n",
       "      <td>NaN</td>\n",
       "      <td>NaN</td>\n",
       "      <td>NaN</td>\n",
       "      <td>NaN</td>\n",
       "      <td>NaN</td>\n",
       "    </tr>\n",
       "    <tr>\n",
       "      <th>4</th>\n",
       "      <td>Adelie</td>\n",
       "      <td>Torgersen</td>\n",
       "      <td>36.7</td>\n",
       "      <td>19.3</td>\n",
       "      <td>193.0</td>\n",
       "      <td>3450.0</td>\n",
       "      <td>FEMALE</td>\n",
       "    </tr>\n",
       "  </tbody>\n",
       "</table>\n",
       "</div>"
      ],
      "text/plain": [
       "  species     island  culmen_length_mm  culmen_depth_mm  flipper_length_mm  \\\n",
       "0  Adelie  Torgersen              39.1             18.7              181.0   \n",
       "1  Adelie  Torgersen              39.5             17.4              186.0   \n",
       "2  Adelie  Torgersen              40.3             18.0              195.0   \n",
       "3  Adelie  Torgersen               NaN              NaN                NaN   \n",
       "4  Adelie  Torgersen              36.7             19.3              193.0   \n",
       "\n",
       "   body_mass_g     sex  \n",
       "0       3750.0    MALE  \n",
       "1       3800.0  FEMALE  \n",
       "2       3250.0  FEMALE  \n",
       "3          NaN     NaN  \n",
       "4       3450.0  FEMALE  "
      ]
     },
     "execution_count": 3,
     "metadata": {},
     "output_type": "execute_result"
    }
   ],
   "source": [
    "df_penguin_data = pd.read_csv(\"./2022-a1-penguin-classification.csv\")\n",
    "df_penguin_data.head()"
   ]
  },
  {
   "cell_type": "code",
   "execution_count": 4,
   "metadata": {},
   "outputs": [],
   "source": [
    "# convert data to a binary classification problem\n",
    "df_penguin_data[\"is_chinstrap\"] = np.where((df_penguin_data[\"species\"] == 'Chinstrap'),1, 0)\n",
    "df_penguin_data = df_penguin_data.drop(columns=[\"species\"], errors=\"ignore\")"
   ]
  },
  {
   "cell_type": "markdown",
   "metadata": {},
   "source": [
    "### Exploratory Data Analysis (EDA)"
   ]
  },
  {
   "cell_type": "markdown",
   "metadata": {},
   "source": [
    "#### Distribution of data in the target class"
   ]
  },
  {
   "cell_type": "code",
   "execution_count": 5,
   "metadata": {},
   "outputs": [
    {
     "data": {
      "image/png": "[encoded data removed]",
      "text/plain": [
       "<Figure size 432x288 with 1 Axes>"
      ]
     },
     "metadata": {
      "needs_background": "light"
     },
     "output_type": "display_data"
    }
   ],
   "source": [
    "ax = df_penguin_data[\"is_chinstrap\"].hist(grid=False, color=\"teal\") # plot histogram of target class\n",
    "ax.set_ylabel(\"Number of Penguins\")\n",
    "ax.set_title(\"Distribution of Chinstrap species\");"
   ]
  },
  {
   "cell_type": "markdown",
   "metadata": {},
   "source": [
    "There is class imbalance in the distribution of the Penguin species which will affect the performance of the classifier. "
   ]
  },
  {
   "cell_type": "markdown",
   "metadata": {},
   "source": [
    " #### Correlations between your numerical attributes and your target variable"
   ]
  },
  {
   "cell_type": "code",
   "execution_count": 27,
   "metadata": {},
   "outputs": [
    {
     "data": {
      "text/html": [
       "<div>\n",
       "<style scoped>\n",
       "    .dataframe tbody tr th:only-of-type {\n",
       "        vertical-align: middle;\n",
       "    }\n",
       "\n",
       "    .dataframe tbody tr th {\n",
       "        vertical-align: top;\n",
       "    }\n",
       "\n",
       "    .dataframe thead th {\n",
       "        text-align: right;\n",
       "    }\n",
       "</style>\n",
       "<table border=\"1\" class=\"dataframe\">\n",
       "  <thead>\n",
       "    <tr style=\"text-align: right;\">\n",
       "      <th></th>\n",
       "      <th>culmen_length_mm</th>\n",
       "      <th>culmen_depth_mm</th>\n",
       "      <th>flipper_length_mm</th>\n",
       "      <th>body_mass_g</th>\n",
       "      <th>is_chinstrap</th>\n",
       "    </tr>\n",
       "  </thead>\n",
       "  <tbody>\n",
       "    <tr>\n",
       "      <th>culmen_length_mm</th>\n",
       "      <td>1.000000</td>\n",
       "      <td>-0.240538</td>\n",
       "      <td>0.647875</td>\n",
       "      <td>0.586736</td>\n",
       "      <td>0.453900</td>\n",
       "    </tr>\n",
       "    <tr>\n",
       "      <th>culmen_depth_mm</th>\n",
       "      <td>-0.240538</td>\n",
       "      <td>1.000000</td>\n",
       "      <td>-0.589735</td>\n",
       "      <td>-0.487264</td>\n",
       "      <td>0.320601</td>\n",
       "    </tr>\n",
       "    <tr>\n",
       "      <th>flipper_length_mm</th>\n",
       "      <td>0.647875</td>\n",
       "      <td>-0.589735</td>\n",
       "      <td>1.000000</td>\n",
       "      <td>0.872848</td>\n",
       "      <td>-0.188121</td>\n",
       "    </tr>\n",
       "    <tr>\n",
       "      <th>body_mass_g</th>\n",
       "      <td>0.586736</td>\n",
       "      <td>-0.487264</td>\n",
       "      <td>0.872848</td>\n",
       "      <td>1.000000</td>\n",
       "      <td>-0.297013</td>\n",
       "    </tr>\n",
       "    <tr>\n",
       "      <th>is_chinstrap</th>\n",
       "      <td>0.453900</td>\n",
       "      <td>0.320601</td>\n",
       "      <td>-0.188121</td>\n",
       "      <td>-0.297013</td>\n",
       "      <td>1.000000</td>\n",
       "    </tr>\n",
       "  </tbody>\n",
       "</table>\n",
       "</div>"
      ],
      "text/plain": [
       "                   culmen_length_mm  culmen_depth_mm  flipper_length_mm  \\\n",
       "culmen_length_mm           1.000000        -0.240538           0.647875   \n",
       "culmen_depth_mm           -0.240538         1.000000          -0.589735   \n",
       "flipper_length_mm          0.647875        -0.589735           1.000000   \n",
       "body_mass_g                0.586736        -0.487264           0.872848   \n",
       "is_chinstrap               0.453900         0.320601          -0.188121   \n",
       "\n",
       "                   body_mass_g  is_chinstrap  \n",
       "culmen_length_mm      0.586736      0.453900  \n",
       "culmen_depth_mm      -0.487264      0.320601  \n",
       "flipper_length_mm     0.872848     -0.188121  \n",
       "body_mass_g           1.000000     -0.297013  \n",
       "is_chinstrap         -0.297013      1.000000  "
      ]
     },
     "execution_count": 27,
     "metadata": {},
     "output_type": "execute_result"
    }
   ],
   "source": [
    "# correlation matrix\n",
    "corr_matrix = df_penguin_data.corr()\n",
    "corr_matrix[\"is_chinstrap\"].sort_values(ascending=False)"
   ]
  },
  {
   "cell_type": "markdown",
   "metadata": {},
   "source": [
    "The most important feature for identifying a Chinstrap penguin is the length of the culmen. A Chinstrap penguin will likely have longer culmen and smaller body mass compared to other penguins."
   ]
  },
  {
   "cell_type": "code",
   "execution_count": 7,
   "metadata": {},
   "outputs": [
    {
     "data": {
      "image/png": "[encoded data removed]",
      "text/plain": [
       "<Figure size 432x288 with 1 Axes>"
      ]
     },
     "metadata": {
      "needs_background": "light"
     },
     "output_type": "display_data"
    },
    {
     "data": {
      "image/png": "[encoded data removed]",
      "text/plain": [
       "<Figure size 432x288 with 1 Axes>"
      ]
     },
     "metadata": {
      "needs_background": "light"
     },
     "output_type": "display_data"
    },
    {
     "data": {
      "image/png": "[encoded data removed]",
      "text/plain": [
       "<Figure size 432x288 with 1 Axes>"
      ]
     },
     "metadata": {
      "needs_background": "light"
     },
     "output_type": "display_data"
    },
    {
     "data": {
      "image/png": "[encoded data removed]",
      "text/plain": [
       "<Figure size 432x288 with 1 Axes>"
      ]
     },
     "metadata": {
      "needs_background": "light"
     },
     "output_type": "display_data"
    },
    {
     "data": {
      "image/png": "[encoded data removed]",
      "text/plain": [
       "<Figure size 432x288 with 1 Axes>"
      ]
     },
     "metadata": {
      "needs_background": "light"
     },
     "output_type": "display_data"
    }
   ],
   "source": [
    "# function to make boxplot for the features\n",
    "def viz(data,attr, target):\n",
    "    ax = data.boxplot(attr,target) \n",
    "    ax.set_title(\" \")\n",
    "    ax.get_figure().suptitle(\"Boxplot of feature vs target variable\")\n",
    "    ax.set_ylabel(attr)\n",
    "\n",
    "features = [\"culmen_length_mm\",\"culmen_depth_mm\",\"flipper_length_mm\",\"body_mass_g\",\"sex\"]\n",
    "for item in features:\n",
    "    if item == \"sex\":\n",
    "        CrosstabResult=pd.crosstab(index=df_penguin_data['sex'],columns=df_penguin_data['is_chinstrap'])\n",
    "        CrosstabResult.plot.bar(ylabel=\"number of penguins\")\n",
    "    else:\n",
    "        viz(df_penguin_data,item,\"is_chinstrap\")"
   ]
  },
  {
   "cell_type": "markdown",
   "metadata": {},
   "source": [
    "#### Handling outliers"
   ]
  },
  {
   "cell_type": "code",
   "execution_count": 8,
   "metadata": {},
   "outputs": [
    {
     "data": {
      "text/html": [
       "<div>\n",
       "<style scoped>\n",
       "    .dataframe tbody tr th:only-of-type {\n",
       "        vertical-align: middle;\n",
       "    }\n",
       "\n",
       "    .dataframe tbody tr th {\n",
       "        vertical-align: top;\n",
       "    }\n",
       "\n",
       "    .dataframe thead th {\n",
       "        text-align: right;\n",
       "    }\n",
       "</style>\n",
       "<table border=\"1\" class=\"dataframe\">\n",
       "  <thead>\n",
       "    <tr style=\"text-align: right;\">\n",
       "      <th></th>\n",
       "      <th>island</th>\n",
       "      <th>culmen_length_mm</th>\n",
       "      <th>culmen_depth_mm</th>\n",
       "      <th>flipper_length_mm</th>\n",
       "      <th>body_mass_g</th>\n",
       "      <th>sex</th>\n",
       "      <th>is_chinstrap</th>\n",
       "    </tr>\n",
       "  </thead>\n",
       "  <tbody>\n",
       "    <tr>\n",
       "      <th>253</th>\n",
       "      <td>Biscoe</td>\n",
       "      <td>59.6</td>\n",
       "      <td>17.0</td>\n",
       "      <td>230.0</td>\n",
       "      <td>6050.0</td>\n",
       "      <td>MALE</td>\n",
       "      <td>0</td>\n",
       "    </tr>\n",
       "    <tr>\n",
       "      <th>189</th>\n",
       "      <td>Dream</td>\n",
       "      <td>52.0</td>\n",
       "      <td>20.7</td>\n",
       "      <td>210.0</td>\n",
       "      <td>4800.0</td>\n",
       "      <td>MALE</td>\n",
       "      <td>1</td>\n",
       "    </tr>\n",
       "    <tr>\n",
       "      <th>190</th>\n",
       "      <td>Dream</td>\n",
       "      <td>46.9</td>\n",
       "      <td>16.6</td>\n",
       "      <td>192.0</td>\n",
       "      <td>2700.0</td>\n",
       "      <td>FEMALE</td>\n",
       "      <td>1</td>\n",
       "    </tr>\n",
       "  </tbody>\n",
       "</table>\n",
       "</div>"
      ],
      "text/plain": [
       "     island  culmen_length_mm  culmen_depth_mm  flipper_length_mm  \\\n",
       "253  Biscoe              59.6             17.0              230.0   \n",
       "189   Dream              52.0             20.7              210.0   \n",
       "190   Dream              46.9             16.6              192.0   \n",
       "\n",
       "     body_mass_g     sex  is_chinstrap  \n",
       "253       6050.0    MALE             0  \n",
       "189       4800.0    MALE             1  \n",
       "190       2700.0  FEMALE             1  "
      ]
     },
     "execution_count": 8,
     "metadata": {},
     "output_type": "execute_result"
    }
   ],
   "source": [
    "# code to identify outliers based on the boxplot \n",
    "outlier1 = df_penguin_data[(df_penguin_data['culmen_length_mm'] >58) & (df_penguin_data['is_chinstrap'] == 0)]\n",
    "outlier2 = df_penguin_data[(df_penguin_data['body_mass_g'] >4700) & (df_penguin_data['is_chinstrap'] == 1)]\n",
    "outlier3 = df_penguin_data[(df_penguin_data['body_mass_g'] < 2800) & (df_penguin_data['is_chinstrap'] == 1)]\n",
    "pd.concat([outlier1,outlier2,outlier3])"
   ]
  },
  {
   "cell_type": "code",
   "execution_count": 9,
   "metadata": {},
   "outputs": [],
   "source": [
    "# code to remove outliers\n",
    "df_penguin_data= df_penguin_data.drop(labels=[253,189,190], axis=0)"
   ]
  },
  {
   "cell_type": "markdown",
   "metadata": {},
   "source": [
    "###  Train/Test Split"
   ]
  },
  {
   "cell_type": "code",
   "execution_count": 11,
   "metadata": {},
   "outputs": [
    {
     "data": {
      "text/html": [
       "<div>\n",
       "<style scoped>\n",
       "    .dataframe tbody tr th:only-of-type {\n",
       "        vertical-align: middle;\n",
       "    }\n",
       "\n",
       "    .dataframe tbody tr th {\n",
       "        vertical-align: top;\n",
       "    }\n",
       "\n",
       "    .dataframe thead th {\n",
       "        text-align: right;\n",
       "    }\n",
       "</style>\n",
       "<table border=\"1\" class=\"dataframe\">\n",
       "  <thead>\n",
       "    <tr style=\"text-align: right;\">\n",
       "      <th></th>\n",
       "      <th>culmen_length_mm</th>\n",
       "      <th>culmen_depth_mm</th>\n",
       "      <th>flipper_length_mm</th>\n",
       "      <th>body_mass_g</th>\n",
       "      <th>is_chinstrap</th>\n",
       "    </tr>\n",
       "  </thead>\n",
       "  <tbody>\n",
       "    <tr>\n",
       "      <th>count</th>\n",
       "      <td>331.000000</td>\n",
       "      <td>331.000000</td>\n",
       "      <td>331.000000</td>\n",
       "      <td>331.000000</td>\n",
       "      <td>331.000000</td>\n",
       "    </tr>\n",
       "    <tr>\n",
       "      <th>mean</th>\n",
       "      <td>43.914199</td>\n",
       "      <td>17.151964</td>\n",
       "      <td>200.927492</td>\n",
       "      <td>4206.268882</td>\n",
       "      <td>0.199396</td>\n",
       "    </tr>\n",
       "    <tr>\n",
       "      <th>std</th>\n",
       "      <td>5.396678</td>\n",
       "      <td>1.966928</td>\n",
       "      <td>13.977282</td>\n",
       "      <td>797.128116</td>\n",
       "      <td>0.400151</td>\n",
       "    </tr>\n",
       "    <tr>\n",
       "      <th>min</th>\n",
       "      <td>32.100000</td>\n",
       "      <td>13.100000</td>\n",
       "      <td>172.000000</td>\n",
       "      <td>2850.000000</td>\n",
       "      <td>0.000000</td>\n",
       "    </tr>\n",
       "    <tr>\n",
       "      <th>25%</th>\n",
       "      <td>39.400000</td>\n",
       "      <td>15.600000</td>\n",
       "      <td>190.000000</td>\n",
       "      <td>3550.000000</td>\n",
       "      <td>0.000000</td>\n",
       "    </tr>\n",
       "    <tr>\n",
       "      <th>50%</th>\n",
       "      <td>44.400000</td>\n",
       "      <td>17.300000</td>\n",
       "      <td>197.000000</td>\n",
       "      <td>4050.000000</td>\n",
       "      <td>0.000000</td>\n",
       "    </tr>\n",
       "    <tr>\n",
       "      <th>75%</th>\n",
       "      <td>48.500000</td>\n",
       "      <td>18.700000</td>\n",
       "      <td>213.000000</td>\n",
       "      <td>4762.500000</td>\n",
       "      <td>0.000000</td>\n",
       "    </tr>\n",
       "    <tr>\n",
       "      <th>max</th>\n",
       "      <td>58.000000</td>\n",
       "      <td>21.500000</td>\n",
       "      <td>231.000000</td>\n",
       "      <td>6300.000000</td>\n",
       "      <td>1.000000</td>\n",
       "    </tr>\n",
       "  </tbody>\n",
       "</table>\n",
       "</div>"
      ],
      "text/plain": [
       "       culmen_length_mm  culmen_depth_mm  flipper_length_mm  body_mass_g  \\\n",
       "count        331.000000       331.000000         331.000000   331.000000   \n",
       "mean          43.914199        17.151964         200.927492  4206.268882   \n",
       "std            5.396678         1.966928          13.977282   797.128116   \n",
       "min           32.100000        13.100000         172.000000  2850.000000   \n",
       "25%           39.400000        15.600000         190.000000  3550.000000   \n",
       "50%           44.400000        17.300000         197.000000  4050.000000   \n",
       "75%           48.500000        18.700000         213.000000  4762.500000   \n",
       "max           58.000000        21.500000         231.000000  6300.000000   \n",
       "\n",
       "       is_chinstrap  \n",
       "count    331.000000  \n",
       "mean       0.199396  \n",
       "std        0.400151  \n",
       "min        0.000000  \n",
       "25%        0.000000  \n",
       "50%        0.000000  \n",
       "75%        0.000000  \n",
       "max        1.000000  "
      ]
     },
     "execution_count": 11,
     "metadata": {},
     "output_type": "execute_result"
    }
   ],
   "source": [
    "# drop all rows with missing values in \"sex\" column as we cannot impute the gender.\n",
    "df_penguin_data = df_penguin_data.dropna(subset=['sex'], how='any')\n",
    "df_penguin_data.describe()"
   ]
  },
  {
   "cell_type": "code",
   "execution_count": 12,
   "metadata": {},
   "outputs": [],
   "source": [
    "X = df_penguin_data[['island', 'culmen_length_mm', 'culmen_depth_mm', 'flipper_length_mm', 'body_mass_g','sex']] # training data\n",
    "y = df_penguin_data['is_chinstrap']  # labels"
   ]
  },
  {
   "cell_type": "code",
   "execution_count": 13,
   "metadata": {},
   "outputs": [
    {
     "name": "stdout",
     "output_type": "stream",
     "text": [
      "0    238\n",
      "1     59\n",
      "Name: is_chinstrap, dtype: int64\n",
      "0    27\n",
      "1     7\n",
      "Name: is_chinstrap, dtype: int64\n"
     ]
    }
   ],
   "source": [
    "# generate a stratified data set\n",
    "from sklearn.model_selection import StratifiedShuffleSplit \n",
    "splitter=StratifiedShuffleSplit(n_splits=1,random_state=42)\n",
    "for train,test in splitter.split(X,y):     # this will split the index\n",
    "    X_train = X.iloc[train]\n",
    "    y_train = y.iloc[train]\n",
    "    X_test = X.iloc[test]\n",
    "    y_test = y.iloc[test]\n",
    "print(y_train.value_counts())  # to prove equal ratio in distribution of the target class in both test and training data sets\n",
    "print(y_test.value_counts())   # to prove equal ratio in distribution of the target class in both test and training data sets"
   ]
  },
  {
   "cell_type": "markdown",
   "metadata": {},
   "source": [
    "### Baseline and Heuristic Models"
   ]
  },
  {
   "cell_type": "code",
   "execution_count": 16,
   "metadata": {},
   "outputs": [
    {
     "name": "stderr",
     "output_type": "stream",
     "text": [
      "/home/nnamdi/.local/lib/python3.6/site-packages/seaborn/_decorators.py:43: FutureWarning: Pass the following variables as keyword args: x, y. From version 0.12, the only valid positional argument will be `data`, and passing other arguments without an explicit keyword will result in an error or misinterpretation.\n",
      "  FutureWarning\n"
     ]
    },
    {
     "data": {
      "image/png": "[encoded data removed]",
      "text/plain": [
       "<Figure size 432x288 with 1 Axes>"
      ]
     },
     "metadata": {
      "needs_background": "light"
     },
     "output_type": "display_data"
    }
   ],
   "source": [
    "from sklearn.dummy import DummyClassifier\n",
    "\n",
    "strategies = ['most_frequent', 'uniform', 'constant']\n",
    "  \n",
    "test_scores = []\n",
    "for s in strategies:\n",
    "    if s =='constant':\n",
    "        dclf = DummyClassifier(strategy = s, random_state = 42, constant = 0)\n",
    "    else:\n",
    "        dclf = DummyClassifier(strategy = s, random_state = 42)\n",
    "    dclf.fit(X_train, y_train)\n",
    "    score = dclf.score(X_test, y_test)\n",
    "    test_scores.append(score)\n",
    "test_scores\n",
    "\n",
    "ax = sns.stripplot(strategies, test_scores);\n",
    "ax.set(xlabel ='Strategy', ylabel ='Test Score', title='Accuracy of baseline, random and constant models')\n",
    "plt.show()"
   ]
  },
  {
   "cell_type": "markdown",
   "metadata": {},
   "source": [
    "The rule-based model predicts the most frequent class of the target variable ( that is 0), the constant model predicts 0 every time which is same as the  rule-based model. The uniform model randomly predicts either class of the target variable on a 50:50 basis. \n",
    "In terms of accuracy, the uniform model has the worst performance because there is class imbalance in the dataset whereas the rule-based and constant models perform better because they predict the most abundant class of the target variable."
   ]
  },
  {
   "cell_type": "code",
   "execution_count": 17,
   "metadata": {},
   "outputs": [
    {
     "name": "stderr",
     "output_type": "stream",
     "text": [
      "/home/nnamdi/.local/lib/python3.6/site-packages/seaborn/_decorators.py:43: FutureWarning: Pass the following variables as keyword args: x, y. From version 0.12, the only valid positional argument will be `data`, and passing other arguments without an explicit keyword will result in an error or misinterpretation.\n",
      "  FutureWarning\n"
     ]
    },
    {
     "data": {
      "image/png": "[encoded data removed]",
      "text/plain": [
       "<Figure size 432x288 with 1 Axes>"
      ]
     },
     "metadata": {
      "needs_background": "light"
     },
     "output_type": "display_data"
    }
   ],
   "source": [
    "#### F1 scores\n",
    "\n",
    "from sklearn.dummy import DummyClassifier\n",
    "from sklearn.model_selection import cross_val_predict\n",
    "from sklearn.metrics import f1_score\n",
    "\n",
    "strategies = ['most_frequent', 'uniform', 'constant']\n",
    "  \n",
    "F1_scores = []\n",
    "for s in strategies:\n",
    "    if s =='constant':\n",
    "        dclf = DummyClassifier(strategy = s, random_state = 42, constant = 0) # predicts 0 / non_Chinstrap every time\n",
    "    else:\n",
    "        dclf = DummyClassifier(strategy = s, random_state = 42)\n",
    "    y_train_pred = cross_val_predict( dclf, X_train, y_train, cv=3)\n",
    "    f1 = f1_score(y_train, y_train_pred)\n",
    "    F1_scores.append(f1)\n",
    "F1_scores\n",
    "\n",
    "# plots of F1 scores\n",
    "ax = sns.stripplot(strategies, F1_scores);\n",
    "ax.set(xlabel ='Strategy', ylabel ='F1 Score', title='F1 scores for baseline, random and constant models')\n",
    "plt.show()"
   ]
  },
  {
   "cell_type": "markdown",
   "metadata": {},
   "source": [
    "### Preprocessing data for machine learning"
   ]
  },
  {
   "cell_type": "code",
   "execution_count": 18,
   "metadata": {},
   "outputs": [],
   "source": [
    "### preprocess and transform training data\n",
    "training_data = X_train.copy() # make a copy of the training data\n",
    "training_labels = y_train.copy() # make a copy of the training label\n",
    "\n",
    "### Pipeline for numerical variables\n",
    "from sklearn.pipeline import Pipeline\n",
    "from sklearn.preprocessing import StandardScaler\n",
    "from sklearn.impute import SimpleImputer\n",
    "from sklearn.preprocessing import OneHotEncoder\n",
    "\n",
    "num_pipeline = Pipeline([('imputer', SimpleImputer(strategy=\"median\")),('std_scaler', StandardScaler())])\n",
    "\n",
    "### ColumnTransformer for training data set\n",
    "try:\n",
    "    from sklearn.compose import ColumnTransformer\n",
    "except ImportError:\n",
    "    from future_encoders import ColumnTransformer \n",
    "num_attribs = ['culmen_length_mm', 'culmen_depth_mm', 'flipper_length_mm', 'body_mass_g']\n",
    "cat_attribs = [\"island\",\"sex\"]\n",
    "\n",
    "full_pipeline = ColumnTransformer([\n",
    "        (\"num\", num_pipeline, num_attribs),\n",
    "        (\"cat\", OneHotEncoder(), cat_attribs)])\n",
    "\n",
    "X_train_tr = full_pipeline.fit_transform(training_data)  #the final training data excluding the labels"
   ]
  },
  {
   "cell_type": "code",
   "execution_count": 19,
   "metadata": {},
   "outputs": [],
   "source": [
    "#### apply same transformation to test data \n",
    "test_data = X_test.copy()\n",
    "test_labels = y_test.copy()\n",
    "\n",
    "### Pipeline for numerical variables\n",
    "num_pipeline = Pipeline([('imputer', SimpleImputer(strategy=\"median\")),('std_scaler', StandardScaler())])\n",
    "\n",
    "### ColumnTransformer for training data set\n",
    "try:\n",
    "    from sklearn.compose import ColumnTransformer\n",
    "except ImportError:\n",
    "    from future_encoders import ColumnTransformer \n",
    "num_attribs = ['culmen_length_mm', 'culmen_depth_mm', 'flipper_length_mm', 'body_mass_g']\n",
    "cat_attribs = [\"island\",\"sex\"]\n",
    "\n",
    "full_pipeline = ColumnTransformer([(\"num\", num_pipeline, num_attribs),(\"cat\", OneHotEncoder(), cat_attribs)])\n",
    "\n",
    "X_test_tr = full_pipeline.fit_transform(test_data) # the final test data , excluding the test labels"
   ]
  },
  {
   "cell_type": "markdown",
   "metadata": {},
   "source": [
    "### Train and compare ML models"
   ]
  },
  {
   "cell_type": "code",
   "execution_count": 20,
   "metadata": {},
   "outputs": [],
   "source": [
    "from sklearn.linear_model import SGDClassifier\n",
    "from sklearn.tree import DecisionTreeClassifier\n",
    "from sklearn.ensemble import AdaBoostClassifier\n",
    "\n",
    "# use these classifiers, without changing their settings\n",
    "perceptron_clf = SGDClassifier(max_iter=100, loss='perceptron', random_state=42)\n",
    "tree_clf = DecisionTreeClassifier(max_features=2, max_depth=2, random_state=42)\n",
    "ada_clf = AdaBoostClassifier(random_state=42)"
   ]
  },
  {
   "cell_type": "code",
   "execution_count": 21,
   "metadata": {},
   "outputs": [
    {
     "name": "stderr",
     "output_type": "stream",
     "text": [
      "[Parallel(n_jobs=1)]: Using backend SequentialBackend with 1 concurrent workers.\n",
      "[Parallel(n_jobs=1)]: Done   1 out of   1 | elapsed:    0.0s remaining:    0.0s\n",
      "[Parallel(n_jobs=1)]: Done   2 out of   2 | elapsed:    0.0s remaining:    0.0s\n",
      "[Parallel(n_jobs=1)]: Done   3 out of   3 | elapsed:    0.0s remaining:    0.0s\n",
      "[Parallel(n_jobs=1)]: Done   3 out of   3 | elapsed:    0.0s finished\n",
      "[Parallel(n_jobs=1)]: Using backend SequentialBackend with 1 concurrent workers.\n",
      "[Parallel(n_jobs=1)]: Done   1 out of   1 | elapsed:    0.0s remaining:    0.0s\n",
      "[Parallel(n_jobs=1)]: Done   2 out of   2 | elapsed:    0.0s remaining:    0.0s\n",
      "[Parallel(n_jobs=1)]: Done   3 out of   3 | elapsed:    0.0s remaining:    0.0s\n",
      "[Parallel(n_jobs=1)]: Done   3 out of   3 | elapsed:    0.0s finished\n",
      "[Parallel(n_jobs=1)]: Using backend SequentialBackend with 1 concurrent workers.\n",
      "[Parallel(n_jobs=1)]: Done   1 out of   1 | elapsed:    0.1s remaining:    0.0s\n",
      "[Parallel(n_jobs=1)]: Done   2 out of   2 | elapsed:    0.2s remaining:    0.0s\n"
     ]
    },
    {
     "name": "stdout",
     "output_type": "stream",
     "text": [
      "[CV] END ................................ score: (test=0.990) total time=   0.0s\n",
      "[CV] END ................................ score: (test=0.990) total time=   0.0s\n",
      "[CV] END ................................ score: (test=0.970) total time=   0.0s\n",
      "[CV] END ................................ score: (test=0.808) total time=   0.0s\n",
      "[CV] END ................................ score: (test=0.737) total time=   0.0s\n",
      "[CV] END ................................ score: (test=0.798) total time=   0.0s\n",
      "[CV] END ................................ score: (test=0.990) total time=   0.1s\n",
      "[CV] END ................................ score: (test=1.000) total time=   0.1s\n",
      "[CV] END ................................ score: (test=0.980) total time=   0.1s\n"
     ]
    },
    {
     "name": "stderr",
     "output_type": "stream",
     "text": [
      "[Parallel(n_jobs=1)]: Done   3 out of   3 | elapsed:    0.2s remaining:    0.0s\n",
      "[Parallel(n_jobs=1)]: Done   3 out of   3 | elapsed:    0.2s finished\n"
     ]
    }
   ],
   "source": [
    "from sklearn.model_selection import cross_val_score\n",
    "CV_score_perceptron = cross_val_score(perceptron_clf, X_train_tr, training_labels, cv=3, scoring=\"accuracy\", verbose=5)\n",
    "CV_score_tree = cross_val_score(tree_clf, X_train_tr, training_labels, cv=3, scoring=\"accuracy\", verbose=5)\n",
    "CV_score_ADA = cross_val_score(ada_clf, X_train_tr, training_labels, cv=3, scoring=\"accuracy\", verbose=5)"
   ]
  },
  {
   "cell_type": "code",
   "execution_count": 22,
   "metadata": {},
   "outputs": [
    {
     "data": {
      "image/png": "[encoded data removed]",
      "text/plain": [
       "<Figure size 432x288 with 1 Axes>"
      ]
     },
     "metadata": {
      "needs_background": "light"
     },
     "output_type": "display_data"
    },
    {
     "data": {
      "text/html": [
       "<div>\n",
       "<style scoped>\n",
       "    .dataframe tbody tr th:only-of-type {\n",
       "        vertical-align: middle;\n",
       "    }\n",
       "\n",
       "    .dataframe tbody tr th {\n",
       "        vertical-align: top;\n",
       "    }\n",
       "\n",
       "    .dataframe thead th {\n",
       "        text-align: right;\n",
       "    }\n",
       "</style>\n",
       "<table border=\"1\" class=\"dataframe\">\n",
       "  <thead>\n",
       "    <tr style=\"text-align: right;\">\n",
       "      <th></th>\n",
       "      <th>Mean</th>\n",
       "      <th>Std</th>\n",
       "    </tr>\n",
       "  </thead>\n",
       "  <tbody>\n",
       "    <tr>\n",
       "      <th>Perceptron</th>\n",
       "      <td>0.9832</td>\n",
       "      <td>0.0095</td>\n",
       "    </tr>\n",
       "    <tr>\n",
       "      <th>Decision_tree</th>\n",
       "      <td>0.7811</td>\n",
       "      <td>0.0312</td>\n",
       "    </tr>\n",
       "    <tr>\n",
       "      <th>ADA</th>\n",
       "      <td>0.9899</td>\n",
       "      <td>0.0082</td>\n",
       "    </tr>\n",
       "  </tbody>\n",
       "</table>\n",
       "</div>"
      ],
      "text/plain": [
       "                 Mean     Std\n",
       "Perceptron     0.9832  0.0095\n",
       "Decision_tree  0.7811  0.0312\n",
       "ADA            0.9899  0.0082"
      ]
     },
     "execution_count": 22,
     "metadata": {},
     "output_type": "execute_result"
    }
   ],
   "source": [
    "### codes to generate a plot comparing the CV scores of the classifiers\n",
    "# combine the name of the classifier and the scores into a dictionary\n",
    "algo_score = [CV_score_perceptron,CV_score_tree,CV_score_ADA]\n",
    "algo_names = ['Perceptron','Decision_tree','ADA']\n",
    "dicts={}\n",
    "values = []\n",
    "for score in algo_score:\n",
    "    mean = round(score.mean(),4)\n",
    "    std = round(score.std(),4)\n",
    "    values.append((mean, std))\n",
    "for i in range(len(algo_names)):\n",
    "    dicts[algo_names[i]] = values[i]\n",
    "\n",
    "# convert the dictionary to a pandas dataframe, then generate a plot\n",
    "df_CV_scores = pd.DataFrame.from_dict(dicts, orient='index', columns=['Mean','Std'])\n",
    "x = df_CV_scores.index\n",
    "y = df_CV_scores['Mean']\n",
    "e = df_CV_scores['Std'] # standard deviation\n",
    "plt.bar(x,y, color=\"grey\")  # plots the mean\n",
    "plt.ylabel(\"Mean\")\n",
    "plt.errorbar(x, y, yerr=e, fmt='o',ecolor = 'teal',color='black',marker = \"|\") # plots the standard deviation\n",
    "plt.show()\n",
    "df_CV_scores # prints the data frame"
   ]
  },
  {
   "cell_type": "markdown",
   "metadata": {},
   "source": [
    "The ADA classifier had the best performance of 99% accuracy which is better than the 44% accuracy of the baseline model. "
   ]
  },
  {
   "cell_type": "markdown",
   "metadata": {},
   "source": [
    "### Error analysis"
   ]
  },
  {
   "cell_type": "code",
   "execution_count": 24,
   "metadata": {},
   "outputs": [
    {
     "data": {
      "text/plain": [
       "array([[237,   1],\n",
       "       [  2,  57]])"
      ]
     },
     "execution_count": 24,
     "metadata": {},
     "output_type": "execute_result"
    }
   ],
   "source": [
    "# Use cross validation to generate predictions for plotting the confusion matrix\n",
    "from sklearn.model_selection import cross_val_predict\n",
    "y_train_pred = cross_val_predict(ada_clf, X_train_tr, training_labels, cv=3)\n",
    "\n",
    "# Confusion matrix\n",
    "from sklearn.metrics import confusion_matrix\n",
    "confusion_matrix(training_labels, y_train_pred)"
   ]
  },
  {
   "cell_type": "code",
   "execution_count": 25,
   "metadata": {},
   "outputs": [
    {
     "name": "stdout",
     "output_type": "stream",
     "text": [
      "TPR of the ADA classifier is 96.61%\n",
      "TNR of the ADA classifier is 99.58%\n"
     ]
    }
   ],
   "source": [
    "## Calculate the true positive rate(TPR) and true negative rate (TNR) of the ADA classifier\n",
    "TP = 57\n",
    "FP = 1\n",
    "FN = 2\n",
    "TN = 237\n",
    "\n",
    "TPR = round((TP/(TP+FN))*100,2)\n",
    "print(\"TPR of the ADA classifier is \"+str(TPR)+'%')\n",
    "TNR = round((TN/(FP+TN))*100,2)\n",
    "print(\"TNR of the ADA classifier is \"+str(TNR)+'%')"
   ]
  },
  {
   "cell_type": "code",
   "execution_count": 26,
   "metadata": {},
   "outputs": [
    {
     "name": "stdout",
     "output_type": "stream",
     "text": [
      "precision score of the Perceptron classifier is:  0.9827586206896551\n",
      "recall score of the Perceptron classifier is:  0.9661016949152542\n"
     ]
    }
   ],
   "source": [
    "from sklearn.metrics import precision_score, recall_score\n",
    "print(\"precision score of the Perceptron classifier is: \",precision_score(training_labels, y_train_pred)) # accuracy of positive predictions\n",
    "print(\"recall score of the Perceptron classifier is: \",recall_score(training_labels, y_train_pred))"
   ]
  },
  {
   "cell_type": "code",
   "execution_count": null,
   "metadata": {},
   "outputs": [],
   "source": []
  }
 ],
 "metadata": {
  "kernelspec": {
   "display_name": "Python 3",
   "language": "python",
   "name": "python3"
  },
  "language_info": {
   "codemirror_mode": {
    "name": "ipython",
    "version": 3
   },
   "file_extension": ".py",
   "mimetype": "text/x-python",
   "name": "python",
   "nbconvert_exporter": "python",
   "pygments_lexer": "ipython3",
   "version": "3.6.9"
  }
 },
 "nbformat": 4,
 "nbformat_minor": 2
}
