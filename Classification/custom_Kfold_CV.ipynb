{
  "nbformat": 4,
  "nbformat_minor": 0,
  "metadata": {
    "colab": {
      "name": "custom_Kfold-CV.ipynb",
      "provenance": [],
      "collapsed_sections": []
    },
    "kernelspec": {
      "name": "python3",
      "display_name": "Python 3"
    },
    "language_info": {
      "name": "python"
    }
  },
  "cells": [
    {
      "cell_type": "code",
      "execution_count": 1,
      "metadata": {
        "id": "3qCQE3107uJg"
      },
      "outputs": [],
      "source": [
        "import numpy as np\n",
        "import pandas as pd\n",
        "import random"
      ]
    },
    {
      "cell_type": "code",
      "source": [
        "## dataset\n",
        "list1 = [10, 20, 30, 40, 50,60,70,80,90]  \n",
        "vtr = np.array(list1)  "
      ],
      "metadata": {
        "id": "UHD7qrV4kn16"
      },
      "execution_count": 2,
      "outputs": []
    },
    {
      "cell_type": "code",
      "source": [
        "def kfold (dataset, K):\n",
        "  '''Split a dataset into k folds'''\n",
        "  dataset_split = list()\n",
        "  dataset_copy = list(dataset)\n",
        "  fold_size = int(len(dataset) / K)\n",
        "  for i in range(K):\n",
        "\t  fold = list()\n",
        "\t  while len(fold) < fold_size:\n",
        "\t\t  index = random.randrange(len(dataset_copy))\n",
        "\t\t  fold.append(dataset_copy.pop(index))\n",
        "\t  dataset_split.append(fold)\n",
        "  return dataset_split"
      ],
      "metadata": {
        "id": "VjrEL4ZO8b8w"
      },
      "execution_count": 3,
      "outputs": []
    },
    {
      "cell_type": "code",
      "source": [
        "def CV(dataset,K):\n",
        "  ''' function to pick one fold as validation set and use the rest of the k-folds as training set'''\n",
        "  folds = list(range(0,K))\n",
        "  CV_data = {}\n",
        "  d = 0\n",
        "  for i in folds:\n",
        "    while d<len(folds):\n",
        "      cc = folds.pop(d)\n",
        "      validationSet = tuple(dataset[cc])\n",
        "      trainingSet = dataset[folds[0]]+dataset[folds[1]]\n",
        "      CV_data[validationSet] = trainingSet\n",
        "      folds.insert(d,d)\n",
        "      d += 1\n",
        "  return CV_data"
      ],
      "metadata": {
        "id": "mjheH3bvYwIj"
      },
      "execution_count": 4,
      "outputs": []
    },
    {
      "cell_type": "code",
      "source": [
        "### example\n",
        "grid_dataset  = kfold(vtr,3)\n",
        "CV(grid_dataset,3)  ### produces a dictionary of the vaidation set as tuples and the training K-folds as a list. "
      ],
      "metadata": {
        "colab": {
          "base_uri": "https://localhost:8080/"
        },
        "id": "Hx3lnrAziSPF",
        "outputId": "70f547b0-bd28-432c-ce98-9d8e66957b8d"
      },
      "execution_count": 93,
      "outputs": [
        {
          "output_type": "execute_result",
          "data": {
            "text/plain": [
              "{(30, 10, 20): [40, 70, 60, 50, 90, 80],\n",
              " (40, 70, 60): [50, 90, 80, 30, 10, 20],\n",
              " (50, 90, 80): [40, 70, 60, 30, 10, 20]}"
            ]
          },
          "metadata": {},
          "execution_count": 93
        }
      ]
    }
  ]
}