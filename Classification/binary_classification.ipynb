{
 "cells": [
  {
   "cell_type": "markdown",
   "metadata": {
    "id": "jYnV4CTTPNO7"
   },
   "source": [
    "# SCS 3253: Machine Learning\n",
    "> Assignment 1: Classification\n",
    "\n",
    "> May 2022\n",
    "\n",
    "> Due Date: Tuesday June 7th, 6:30pm"
   ]
  },
  {
   "cell_type": "markdown",
   "metadata": {
    "id": "PLx-XyaePRlq"
   },
   "source": [
    "### Your name & student number:\n",
    "\n",
    "<pre> Name : Nnamdi Joseph Asouzu</pre> \n",
    "\n",
    "<pre> Student Number : qq435813</pre> \n"
   ]
  },
  {
   "cell_type": "markdown",
   "metadata": {
    "id": "RE2CN5nsPRbz"
   },
   "source": [
    "# Instructions and Marking Guidelines\n",
    "***\n",
    "This assignment will account for 15% of your final grade. It is worth 22 marks in total, with 2 bonus marks available via an optional challenge at the end (note: your final assignment score will be capped at 100%). \n",
    "\n",
    "Please read the provided markdown (text) cells carefully. Some subsections contain multiple questions. Be sure to answer all questions. \n",
    "\n",
    "Answers should be provided within this same notebook and will be a mix of code, outputs (e.g. plots, trained models), and written reponses. \n",
    "\n",
    "#### TIPS\n",
    "\n",
    "> 📝 **NOTE**: this first intro assignment is fairly structured; future assignments will be slightly more open-ended to allow for more 'organic' exploration of problems. \n",
    "\n",
    "> ⏳ **Please budget 4-5 hours to complete each assignment.** Reach out to us if you think your assignment will be more than 1 week late. \n",
    "\n",
    "> 📚 **You will likely need to refer to the documentation of libraries such as sklearn** while completing this assignment. Looking up things in 'the docs' is part of the day-to-day life of a Data Scientist. We encourage you to visit the docs if you haven't already. It's a great way to become more familiar and comfortable with the ML tools available to you.  \n",
    "* You can find the scikit-learn docs [here](https://scikit-learn.org/stable/modules/classes.html)\n",
    "* You can also find a variety of helpful guides and tutorials through the [main scikit-learn website](https://scikit-learn.org/stable/)\n",
    "* Other helpful references can be found here:\n",
    " * [MatPlotLib](https://matplotlib.org/)\n",
    " * [Seaborn](seaborn.pydata.org)\n",
    " * [Pandas](https://pandas.pydata.org/docs/)\n",
    " * [Numpy](https://numpy.org/doc/)\n",
    "\n",
    "\n",
    "> 💣  **When you enounter errors** (because it's a law of nature in coding), please carefully read what the error message is telling you. Debugging is a key skill to develop. It's about understanding the root cause of an error, trying a fix, and repeating with a new hypothesis as necessary. If you get totally stuck, try googling the error message. You can find many common errors and solutions documented on [stackoverflow](https://stackoverflow.com/). \n",
    "\n",
    "\n",
    "\n",
    "### Marking Guidelines\n",
    "\n",
    "All questions will state the number of marks available, e.g. [X points].\n",
    "\n",
    "In machine learning, there is not necessarily one \"correct\" answer to a given modelling problem. You **do not** need to have the \"best\" performing model in the class in order to receive full marks. Rather, we will be marking assignments individually, based on the following criteria:\n",
    "\n",
    "* **Demonstration of core concepts [40%]**\n",
    " * Do your answers to written questions demonstrate you understand and can apply the core concepts taught in class? Are those answers justified by the calculations / plots / models you produced?\n",
    "\n",
    "* **Reasonable outputs [30%]** \n",
    " * Do the values you obtain make sense? Did you follow the expected steps. Do you show all steps and make your reasoning clear?\n",
    "\n",
    "* **Effort [15%]** \n",
    " * Are data visualizations or plots clear and easy to interpret? Did you make a reasonable effort to maximize the performance of the models you submitted?\n",
    "\n",
    "* **Clean code [15%]** \n",
    " * Is your python code easy to follow? Related code should be organized into re-usable functions and not be scattered across notebook cells. Function and variable names should be well-chosen to convey what they do or represent. Functions should have docstrings explaining what they do. Comments should be used to explain the details of what you are doing, to help your evaluator follow along. "
   ]
  },
  {
   "cell_type": "code",
   "execution_count": 1,
   "metadata": {
    "id": "ru0awrdwxFoQ"
   },
   "outputs": [],
   "source": [
    "# === NOTEBOOK & IMPORT SETUP ===\n",
    "\n",
    "import pandas as pd\n",
    "import numpy as np\n",
    "import seaborn as sns\n",
    "import matplotlib.pyplot as plt\n",
    "\n",
    "pd.set_option(\"display.max_columns\", None)\n",
    "%matplotlib inline"
   ]
  },
  {
   "cell_type": "markdown",
   "metadata": {
    "id": "r73MspWgPfs1"
   },
   "source": [
    "# Loading the Dataset\n",
    "***\n",
    "\n",
    "Your dataset for this assignment consists of ecological data collected from Penguins living in Antarctica. The data were made available by Dr. Kristen Gorman and the Palmer Station, Antarctica LTER, a member of the Long Term Ecological Research Network.\n",
    "\n",
    "Your goal will be to correctly identify Penguin species based on the following attributes:\n",
    "\n",
    "- sex: penguin sex (Male or Female)\n",
    "- island: name of the island (Dream, Torgersen, or Biscoe) in the Palmer Archipelago (Antarctica) where the observation was made\n",
    "- body_mass_g: body mass (g)\n",
    "- flipper_length_mm: flipper length (mm)\n",
    "- culmen_length_mm: culmen length (mm)\n",
    "- culmen_depth_mm: culmen depth (mm)\n",
    "\n",
    "*Note: the culmen is \"the upper ridge of a bird's beak\"*\n",
    "\n",
    "The dataset is provided as the file `2022-a1-penguin-classification.csv` alongside this notebook. \n",
    "\n",
    "If using google colab, remember to upload the data csv file to the notebook's 'file' directory first (i.e. click on the folder tab on the left, then drag-and-drop the file next to `sample_data`)"
   ]
  },
  {
   "cell_type": "code",
   "execution_count": 2,
   "metadata": {
    "id": "DLtDuXHnw48V"
   },
   "outputs": [
    {
     "data": {
      "text/html": [
       "<div>\n",
       "<style scoped>\n",
       "    .dataframe tbody tr th:only-of-type {\n",
       "        vertical-align: middle;\n",
       "    }\n",
       "\n",
       "    .dataframe tbody tr th {\n",
       "        vertical-align: top;\n",
       "    }\n",
       "\n",
       "    .dataframe thead th {\n",
       "        text-align: right;\n",
       "    }\n",
       "</style>\n",
       "<table border=\"1\" class=\"dataframe\">\n",
       "  <thead>\n",
       "    <tr style=\"text-align: right;\">\n",
       "      <th></th>\n",
       "      <th>species</th>\n",
       "      <th>island</th>\n",
       "      <th>culmen_length_mm</th>\n",
       "      <th>culmen_depth_mm</th>\n",
       "      <th>flipper_length_mm</th>\n",
       "      <th>body_mass_g</th>\n",
       "      <th>sex</th>\n",
       "    </tr>\n",
       "  </thead>\n",
       "  <tbody>\n",
       "    <tr>\n",
       "      <th>0</th>\n",
       "      <td>Adelie</td>\n",
       "      <td>Torgersen</td>\n",
       "      <td>39.1</td>\n",
       "      <td>18.7</td>\n",
       "      <td>181.0</td>\n",
       "      <td>3750.0</td>\n",
       "      <td>MALE</td>\n",
       "    </tr>\n",
       "    <tr>\n",
       "      <th>1</th>\n",
       "      <td>Adelie</td>\n",
       "      <td>Torgersen</td>\n",
       "      <td>39.5</td>\n",
       "      <td>17.4</td>\n",
       "      <td>186.0</td>\n",
       "      <td>3800.0</td>\n",
       "      <td>FEMALE</td>\n",
       "    </tr>\n",
       "    <tr>\n",
       "      <th>2</th>\n",
       "      <td>Adelie</td>\n",
       "      <td>Torgersen</td>\n",
       "      <td>40.3</td>\n",
       "      <td>18.0</td>\n",
       "      <td>195.0</td>\n",
       "      <td>3250.0</td>\n",
       "      <td>FEMALE</td>\n",
       "    </tr>\n",
       "    <tr>\n",
       "      <th>3</th>\n",
       "      <td>Adelie</td>\n",
       "      <td>Torgersen</td>\n",
       "      <td>NaN</td>\n",
       "      <td>NaN</td>\n",
       "      <td>NaN</td>\n",
       "      <td>NaN</td>\n",
       "      <td>NaN</td>\n",
       "    </tr>\n",
       "    <tr>\n",
       "      <th>4</th>\n",
       "      <td>Adelie</td>\n",
       "      <td>Torgersen</td>\n",
       "      <td>36.7</td>\n",
       "      <td>19.3</td>\n",
       "      <td>193.0</td>\n",
       "      <td>3450.0</td>\n",
       "      <td>FEMALE</td>\n",
       "    </tr>\n",
       "  </tbody>\n",
       "</table>\n",
       "</div>"
      ],
      "text/plain": [
       "  species     island  culmen_length_mm  culmen_depth_mm  flipper_length_mm  \\\n",
       "0  Adelie  Torgersen              39.1             18.7              181.0   \n",
       "1  Adelie  Torgersen              39.5             17.4              186.0   \n",
       "2  Adelie  Torgersen              40.3             18.0              195.0   \n",
       "3  Adelie  Torgersen               NaN              NaN                NaN   \n",
       "4  Adelie  Torgersen              36.7             19.3              193.0   \n",
       "\n",
       "   body_mass_g     sex  \n",
       "0       3750.0    MALE  \n",
       "1       3800.0  FEMALE  \n",
       "2       3250.0  FEMALE  \n",
       "3          NaN     NaN  \n",
       "4       3450.0  FEMALE  "
      ]
     },
     "execution_count": 2,
     "metadata": {},
     "output_type": "execute_result"
    }
   ],
   "source": [
    "df_penguin_data = pd.read_csv(\"./2022-a1-penguin-classification.csv\")\n",
    "df_penguin_data.head()"
   ]
  },
  {
   "cell_type": "markdown",
   "metadata": {
    "id": "ytwX7-guycO7"
   },
   "source": [
    "# Part 1: Binary Classification [22 points total]\n",
    "***\n",
    "\n",
    "This dataset contains multiple classes. There are 3 species of Penguins present. However, we will first focus on being able to identify Chinstrap penguins. Therefore our target variable will become `is_chinstrap`, which is equal to 1 if the Penguin is a Chinstrap, and 0 if it belongs to any other species.\n",
    "\n",
    "The following code will transform the dataset to make it suitable for binary classification. \n",
    "\n",
    "> **Be sure to run the following transformation on the data before proceeding!**"
   ]
  },
  {
   "cell_type": "code",
   "execution_count": 3,
   "metadata": {
    "id": "UQU5oyG0RDbp"
   },
   "outputs": [],
   "source": [
    "# convert data to a binary classification problem\n",
    "df_penguin_data[\"is_chinstrap\"] = np.where((df_penguin_data[\"species\"] == 'Chinstrap'),1, 0)\n",
    "df_penguin_data = df_penguin_data.drop(columns=[\"species\"], errors=\"ignore\")"
   ]
  },
  {
   "cell_type": "markdown",
   "metadata": {
    "id": "Mwu_ZNdW2cb_"
   },
   "source": [
    "### A) Exploratory Data Analysis (EDA) [6 points]\n",
    "Explore the data to answer the questions below. Include supporting tables or plots. You can use the techniques we demonstrated in class, or any other techniques you deem relevant.\n",
    "\n"
   ]
  },
  {
   "cell_type": "markdown",
   "metadata": {
    "id": "vLHriE9OXgw5"
   },
   "source": [
    "i) How is the data distributed in your **target class**? Remark on how what you observe might impact model training or evaluation. [1 point]\n"
   ]
  },
  {
   "cell_type": "code",
   "execution_count": 4,
   "metadata": {},
   "outputs": [
    {
     "data": {
      "image/png": "[encoded data removed]",
      "text/plain": [
       "<Figure size 432x288 with 1 Axes>"
      ]
     },
     "metadata": {
      "needs_background": "light"
     },
     "output_type": "display_data"
    }
   ],
   "source": [
    "ax = df_penguin_data[\"is_chinstrap\"].hist(grid=False, color=\"teal\")\n",
    "ax.set_ylabel(\"Number of Penguins\")\n",
    "ax.set_title(\"Distribution of Chinstrap species\");"
   ]
  },
  {
   "cell_type": "markdown",
   "metadata": {},
   "source": [
    "There is class imbalance in the distribution of the Penguin species. Chinstrap species make up about 16% of the total penguin population in the dataset. "
   ]
  },
  {
   "cell_type": "markdown",
   "metadata": {},
   "source": [
    "<br>"
   ]
  },
  {
   "cell_type": "markdown",
   "metadata": {
    "id": "kMPZ5nP-0-x7"
   },
   "source": [
    "ii) Examine the correlations between your **numerical** attributes and your target variable. Which feature seems most important? Based on the correlations, how would you describe a Chinstrap penguin relative to other penguins in terms of its features (e.g. do they tend to have longer or shorter culmen length, higher or lower body mass, etc)? [2 points]"
   ]
  },
  {
   "cell_type": "code",
   "execution_count": 5,
   "metadata": {
    "id": "_kBhE1TX2kO_"
   },
   "outputs": [
    {
     "data": {
      "text/plain": [
       "is_chinstrap         1.000000\n",
       "culmen_length_mm     0.448853\n",
       "culmen_depth_mm      0.320700\n",
       "flipper_length_mm   -0.180650\n",
       "body_mass_g         -0.291561\n",
       "Name: is_chinstrap, dtype: float64"
      ]
     },
     "execution_count": 5,
     "metadata": {},
     "output_type": "execute_result"
    }
   ],
   "source": [
    "from pandas.plotting import scatter_matrix\n",
    "corr_matrix = df_penguin_data.corr()\n",
    "corr_matrix[\"is_chinstrap\"].sort_values(ascending=False)"
   ]
  },
  {
   "cell_type": "markdown",
   "metadata": {},
   "source": [
    "The most important feature for identifying a Chinstrap penguin is the length of the culmen. A Chinstrap penguin will likely have longer culmen and smaller body mass compared to other penguins."
   ]
  },
  {
   "cell_type": "markdown",
   "metadata": {},
   "source": [
    "<br>"
   ]
  },
  {
   "cell_type": "markdown",
   "metadata": {
    "id": "pZ_pA6YOX4QM"
   },
   "source": [
    "iii) Create plots for your features that reveal any differences in how they are distributed for the two values of your target variable (`is_chinstrap = 1` and `is_chinstrap = 0`). Remark on any obvservations that may be useful to this classification problem. Hint: consider histograms as well as multivariate scatterplots. [2 points]"
   ]
  },
  {
   "cell_type": "code",
   "execution_count": 6,
   "metadata": {
    "id": "5Bm9-ZXQy28e"
   },
   "outputs": [
    {
     "data": {
      "image/png": "[encoded data removed]",
      "text/plain": [
       "<Figure size 432x288 with 1 Axes>"
      ]
     },
     "metadata": {
      "needs_background": "light"
     },
     "output_type": "display_data"
    },
    {
     "data": {
      "image/png": "[encoded data removed]",
      "text/plain": [
       "<Figure size 432x288 with 1 Axes>"
      ]
     },
     "metadata": {
      "needs_background": "light"
     },
     "output_type": "display_data"
    },
    {
     "data": {
      "image/png": "[encoded data removed]",
      "text/plain": [
       "<Figure size 432x288 with 1 Axes>"
      ]
     },
     "metadata": {
      "needs_background": "light"
     },
     "output_type": "display_data"
    },
    {
     "data": {
      "image/png": "[encoded data removed]",
      "text/plain": [
       "<Figure size 432x288 with 1 Axes>"
      ]
     },
     "metadata": {
      "needs_background": "light"
     },
     "output_type": "display_data"
    }
   ],
   "source": [
    "ax = df_penguin_data.boxplot(\"culmen_length_mm\",\"is_chinstrap\");\n",
    "ax.set_title(\" \")\n",
    "ax.get_figure().suptitle('Boxplot of culmen length vs target class')\n",
    "ax.set_ylabel(\"Culmen length (mm)\");\n",
    "\n",
    "ax2 = df_penguin_data.boxplot(\"culmen_depth_mm\",\"is_chinstrap\");\n",
    "ax2.set_title(\" \")\n",
    "ax2.get_figure().suptitle('Boxplot of culmen depth vs target class')\n",
    "ax2.set_ylabel(\"Culmen depth (mm)\");\n",
    "\n",
    "ax3 = df_penguin_data.boxplot(\"flipper_length_mm\",\"is_chinstrap\");\n",
    "ax3.set_title(\" \")\n",
    "ax3.get_figure().suptitle('Boxplot of flipper length vs target class')\n",
    "ax3.set_ylabel(\"Flipper length (mm)\");\n",
    "\n",
    "ax4 = df_penguin_data.boxplot(\"body_mass_g\",\"is_chinstrap\");\n",
    "ax4.set_title(\" \")\n",
    "ax4.get_figure().suptitle('Boxplot of body mass(g) vs target class')\n",
    "ax4.set_ylabel(\"Body mass (g)\");"
   ]
  },
  {
   "cell_type": "markdown",
   "metadata": {},
   "source": [
    "Class imbalance is supported by the IQR of the bixplots"
   ]
  },
  {
   "cell_type": "markdown",
   "metadata": {},
   "source": [
    "<br>"
   ]
  },
  {
   "cell_type": "markdown",
   "metadata": {
    "id": "Wlk66E_lYG5R"
   },
   "source": [
    "iv) Does your data contain any outliers? Are there missing values? If so, identify them, and state how you might handle them. [1 point]"
   ]
  },
  {
   "cell_type": "code",
   "execution_count": 7,
   "metadata": {},
   "outputs": [
    {
     "data": {
      "text/html": [
       "<div>\n",
       "<style scoped>\n",
       "    .dataframe tbody tr th:only-of-type {\n",
       "        vertical-align: middle;\n",
       "    }\n",
       "\n",
       "    .dataframe tbody tr th {\n",
       "        vertical-align: top;\n",
       "    }\n",
       "\n",
       "    .dataframe thead th {\n",
       "        text-align: right;\n",
       "    }\n",
       "</style>\n",
       "<table border=\"1\" class=\"dataframe\">\n",
       "  <thead>\n",
       "    <tr style=\"text-align: right;\">\n",
       "      <th></th>\n",
       "      <th>island</th>\n",
       "      <th>culmen_length_mm</th>\n",
       "      <th>culmen_depth_mm</th>\n",
       "      <th>flipper_length_mm</th>\n",
       "      <th>body_mass_g</th>\n",
       "      <th>sex</th>\n",
       "      <th>is_chinstrap</th>\n",
       "    </tr>\n",
       "  </thead>\n",
       "  <tbody>\n",
       "    <tr>\n",
       "      <th>253</th>\n",
       "      <td>Biscoe</td>\n",
       "      <td>59.6</td>\n",
       "      <td>17.0</td>\n",
       "      <td>230.0</td>\n",
       "      <td>6050.0</td>\n",
       "      <td>MALE</td>\n",
       "      <td>0</td>\n",
       "    </tr>\n",
       "    <tr>\n",
       "      <th>189</th>\n",
       "      <td>Dream</td>\n",
       "      <td>52.0</td>\n",
       "      <td>20.7</td>\n",
       "      <td>210.0</td>\n",
       "      <td>4800.0</td>\n",
       "      <td>MALE</td>\n",
       "      <td>1</td>\n",
       "    </tr>\n",
       "    <tr>\n",
       "      <th>190</th>\n",
       "      <td>Dream</td>\n",
       "      <td>46.9</td>\n",
       "      <td>16.6</td>\n",
       "      <td>192.0</td>\n",
       "      <td>2700.0</td>\n",
       "      <td>FEMALE</td>\n",
       "      <td>1</td>\n",
       "    </tr>\n",
       "  </tbody>\n",
       "</table>\n",
       "</div>"
      ],
      "text/plain": [
       "     island  culmen_length_mm  culmen_depth_mm  flipper_length_mm  \\\n",
       "253  Biscoe              59.6             17.0              230.0   \n",
       "189   Dream              52.0             20.7              210.0   \n",
       "190   Dream              46.9             16.6              192.0   \n",
       "\n",
       "     body_mass_g     sex  is_chinstrap  \n",
       "253       6050.0    MALE             0  \n",
       "189       4800.0    MALE             1  \n",
       "190       2700.0  FEMALE             1  "
      ]
     },
     "execution_count": 7,
     "metadata": {},
     "output_type": "execute_result"
    }
   ],
   "source": [
    "outlier1 = df_penguin_data[(df_penguin_data['culmen_length_mm'] >58) & (df_penguin_data['is_chinstrap'] == 0)]\n",
    "outlier2 = df_penguin_data[(df_penguin_data['body_mass_g'] >4700) & (df_penguin_data['is_chinstrap'] == 1)]\n",
    "outlier3 = df_penguin_data[(df_penguin_data['body_mass_g'] < 2800) & (df_penguin_data['is_chinstrap'] == 1)]\n",
    "pd.concat([outlier1,outlier2,outlier3])"
   ]
  },
  {
   "cell_type": "markdown",
   "metadata": {},
   "source": [
    "I will delete the outliers as shown below:"
   ]
  },
  {
   "cell_type": "code",
   "execution_count": 8,
   "metadata": {},
   "outputs": [],
   "source": [
    "df_penguin_data= df_penguin_data.drop(labels=[253,189,190], axis=0)"
   ]
  },
  {
   "cell_type": "markdown",
   "metadata": {},
   "source": [
    "<br>"
   ]
  },
  {
   "cell_type": "markdown",
   "metadata": {
    "id": "aeezySGa4FlJ"
   },
   "source": [
    "### B) Train/Test Split [1 point]\n",
    "\n",
    "Split the dataset into train and test subsets, keeping 80% of records for training. Make sure this split is reproducible (i.e. you get the same split every time you run the cell). Also ensure that the class distribution in your test set matches the class distribution in your training set (same ratio of non-stroke to stroke) and prove this is the case.\n",
    "\n",
    "> Note: You will not use this test data when training or fine-tuning your models, you will only use it at the end for final model evaluation. "
   ]
  },
  {
   "cell_type": "code",
   "execution_count": 9,
   "metadata": {},
   "outputs": [
    {
     "data": {
      "text/html": [
       "<div>\n",
       "<style scoped>\n",
       "    .dataframe tbody tr th:only-of-type {\n",
       "        vertical-align: middle;\n",
       "    }\n",
       "\n",
       "    .dataframe tbody tr th {\n",
       "        vertical-align: top;\n",
       "    }\n",
       "\n",
       "    .dataframe thead th {\n",
       "        text-align: right;\n",
       "    }\n",
       "</style>\n",
       "<table border=\"1\" class=\"dataframe\">\n",
       "  <thead>\n",
       "    <tr style=\"text-align: right;\">\n",
       "      <th></th>\n",
       "      <th>culmen_length_mm</th>\n",
       "      <th>culmen_depth_mm</th>\n",
       "      <th>flipper_length_mm</th>\n",
       "      <th>body_mass_g</th>\n",
       "      <th>is_chinstrap</th>\n",
       "    </tr>\n",
       "  </thead>\n",
       "  <tbody>\n",
       "    <tr>\n",
       "      <th>count</th>\n",
       "      <td>339.000000</td>\n",
       "      <td>339.000000</td>\n",
       "      <td>339.000000</td>\n",
       "      <td>339.000000</td>\n",
       "      <td>341.000000</td>\n",
       "    </tr>\n",
       "    <tr>\n",
       "      <th>mean</th>\n",
       "      <td>43.843068</td>\n",
       "      <td>17.142773</td>\n",
       "      <td>200.828909</td>\n",
       "      <td>4198.967552</td>\n",
       "      <td>0.193548</td>\n",
       "    </tr>\n",
       "    <tr>\n",
       "      <th>std</th>\n",
       "      <td>5.396188</td>\n",
       "      <td>1.973860</td>\n",
       "      <td>14.017748</td>\n",
       "      <td>794.351152</td>\n",
       "      <td>0.395660</td>\n",
       "    </tr>\n",
       "    <tr>\n",
       "      <th>min</th>\n",
       "      <td>32.100000</td>\n",
       "      <td>13.100000</td>\n",
       "      <td>172.000000</td>\n",
       "      <td>2850.000000</td>\n",
       "      <td>0.000000</td>\n",
       "    </tr>\n",
       "    <tr>\n",
       "      <th>25%</th>\n",
       "      <td>39.200000</td>\n",
       "      <td>15.550000</td>\n",
       "      <td>190.000000</td>\n",
       "      <td>3550.000000</td>\n",
       "      <td>0.000000</td>\n",
       "    </tr>\n",
       "    <tr>\n",
       "      <th>50%</th>\n",
       "      <td>44.100000</td>\n",
       "      <td>17.300000</td>\n",
       "      <td>197.000000</td>\n",
       "      <td>4050.000000</td>\n",
       "      <td>0.000000</td>\n",
       "    </tr>\n",
       "    <tr>\n",
       "      <th>75%</th>\n",
       "      <td>48.450000</td>\n",
       "      <td>18.700000</td>\n",
       "      <td>213.000000</td>\n",
       "      <td>4750.000000</td>\n",
       "      <td>0.000000</td>\n",
       "    </tr>\n",
       "    <tr>\n",
       "      <th>max</th>\n",
       "      <td>58.000000</td>\n",
       "      <td>21.500000</td>\n",
       "      <td>231.000000</td>\n",
       "      <td>6300.000000</td>\n",
       "      <td>1.000000</td>\n",
       "    </tr>\n",
       "  </tbody>\n",
       "</table>\n",
       "</div>"
      ],
      "text/plain": [
       "       culmen_length_mm  culmen_depth_mm  flipper_length_mm  body_mass_g  \\\n",
       "count        339.000000       339.000000         339.000000   339.000000   \n",
       "mean          43.843068        17.142773         200.828909  4198.967552   \n",
       "std            5.396188         1.973860          14.017748   794.351152   \n",
       "min           32.100000        13.100000         172.000000  2850.000000   \n",
       "25%           39.200000        15.550000         190.000000  3550.000000   \n",
       "50%           44.100000        17.300000         197.000000  4050.000000   \n",
       "75%           48.450000        18.700000         213.000000  4750.000000   \n",
       "max           58.000000        21.500000         231.000000  6300.000000   \n",
       "\n",
       "       is_chinstrap  \n",
       "count    341.000000  \n",
       "mean       0.193548  \n",
       "std        0.395660  \n",
       "min        0.000000  \n",
       "25%        0.000000  \n",
       "50%        0.000000  \n",
       "75%        0.000000  \n",
       "max        1.000000  "
      ]
     },
     "execution_count": 9,
     "metadata": {},
     "output_type": "execute_result"
    }
   ],
   "source": [
    " df_penguin_data.describe()"
   ]
  },
  {
   "cell_type": "code",
   "execution_count": 10,
   "metadata": {},
   "outputs": [],
   "source": [
    "# drop all rows with missing values in \"sex column as we cannot impute the gender\"\n",
    "df_penguin_data = df_penguin_data.dropna(subset=['sex'], how='any')"
   ]
  },
  {
   "cell_type": "code",
   "execution_count": 11,
   "metadata": {},
   "outputs": [],
   "source": [
    "X = df_penguin_data[['island', 'culmen_length_mm', 'culmen_depth_mm', 'flipper_length_mm', 'body_mass_g']]\n",
    "y = df_penguin_data['is_chinstrap']"
   ]
  },
  {
   "cell_type": "code",
   "execution_count": 12,
   "metadata": {},
   "outputs": [
    {
     "name": "stdout",
     "output_type": "stream",
     "text": [
      "0    238\n",
      "1     59\n",
      "Name: is_chinstrap, dtype: int64\n",
      "0    27\n",
      "1     7\n",
      "Name: is_chinstrap, dtype: int64\n"
     ]
    }
   ],
   "source": [
    "from sklearn.model_selection import StratifiedShuffleSplit \n",
    "splitter=StratifiedShuffleSplit(n_splits=1,random_state=42)\n",
    "for train,test in splitter.split(X,y):     # this will splits the index\n",
    "    X_train = X.iloc[train]\n",
    "    y_train = y.iloc[train]\n",
    "    X_test = X.iloc[test]\n",
    "    y_test = y.iloc[test]\n",
    "print(y_train.value_counts())  \n",
    "print(y_test.value_counts())"
   ]
  },
  {
   "cell_type": "markdown",
   "metadata": {
    "id": "HoC2yU7Q45Os"
   },
   "source": [
    "<br>"
   ]
  },
  {
   "cell_type": "markdown",
   "metadata": {
    "id": "YNuCKkst5Jxq"
   },
   "source": [
    "### C) Baseline and Heuristic Models [4 points]\n",
    "\n",
    "Before diving into ML, it's useful to first come up with a simple benchmark model, whose performance you will then try to beat. A simple rules-based (or \"heuristic\") model approach, based on learnings from EDA, is often a good place to start. It helps you build an intuition around the problem you are trying to solve. \n",
    "\n",
    "\n",
    "\n",
    "\n"
   ]
  },
  {
   "cell_type": "markdown",
   "metadata": {
    "id": "Q_rWym2jD8UK"
   },
   "source": [
    "i) Without even using machine learning, come up with a simple rules-based model using 1-3 features to predict the target label. Evaluate the accuracy of this approach on your test dataset. How does this compare to random 50:50 guessing of the target label? How does this compare with a classifier that predicts 0 (non-Chinstrap) every time? [3 points]"
   ]
  },
  {
   "cell_type": "code",
   "execution_count": 14,
   "metadata": {
    "id": "jktAaZmY5QOK"
   },
   "outputs": [
    {
     "data": {
      "text/plain": [
       "[0.7941176470588235,\n",
       " 0.7941176470588235,\n",
       " 0.6470588235294118,\n",
       " 0.4411764705882353,\n",
       " 0.7941176470588235]"
      ]
     },
     "execution_count": 14,
     "metadata": {},
     "output_type": "execute_result"
    }
   ],
   "source": [
    "from sklearn.dummy import DummyClassifier\n",
    "\n",
    "strategies = ['most_frequent', 'prior','stratified', 'uniform', 'constant']\n",
    "  \n",
    "test_scores = []\n",
    "for s in strategies:\n",
    "    if s =='constant':\n",
    "        dclf = DummyClassifier(strategy = s, random_state = 42, constant = 0)\n",
    "    else:\n",
    "        dclf = DummyClassifier(strategy = s, random_state = 42)\n",
    "    dclf.fit(X_train, y_train)\n",
    "    score = dclf.score(X_test, y_test)\n",
    "    test_scores.append(score)\n",
    "test_scores\n"
   ]
  },
  {
   "cell_type": "code",
   "execution_count": 15,
   "metadata": {},
   "outputs": [
    {
     "name": "stderr",
     "output_type": "stream",
     "text": [
      "/home/nnamdi/.local/lib/python3.6/site-packages/seaborn/_decorators.py:43: FutureWarning: Pass the following variables as keyword args: x, y. From version 0.12, the only valid positional argument will be `data`, and passing other arguments without an explicit keyword will result in an error or misinterpretation.\n",
      "  FutureWarning\n"
     ]
    },
    {
     "data": {
      "image/png": "[encoded data removed]",
      "text/plain": [
       "<Figure size 432x288 with 1 Axes>"
      ]
     },
     "metadata": {
      "needs_background": "light"
     },
     "output_type": "display_data"
    }
   ],
   "source": [
    "ax = sns.stripplot(strategies, test_scores);\n",
    "ax.set(xlabel ='Strategy', ylabel ='Test Score', title='Comparison of baseline, random and constant models')\n",
    "plt.show()"
   ]
  },
  {
   "cell_type": "markdown",
   "metadata": {},
   "source": [
    "<br>"
   ]
  },
  {
   "cell_type": "markdown",
   "metadata": {
    "id": "-JiEynP_EB9H"
   },
   "source": [
    "ii) What if it was more important that we succesfully identify all Chinstrap penguins and not miss any, even if this means we sometimes have False Positives? Name two scoring metrics that might do a better job in this context than accuracy. Then calculate the F1 score of your model instead of its accuracy. How do the F1 scores compare between your model, the 50:50 guessing model, and the \"always non-Chinstrap\" model considered in (i) above?"
   ]
  },
  {
   "cell_type": "markdown",
   "metadata": {
    "id": "ccMcmwEz7nAe"
   },
   "source": [
    "Recall and ROC will successfully identify all Chinstrap penguins at the risk of having false positives.\n",
    "\n"
   ]
  },
  {
   "cell_type": "code",
   "execution_count": 16,
   "metadata": {},
   "outputs": [
    {
     "data": {
      "text/plain": [
       "[0.0, 0.0, 0.21621621621621623, 0.35242290748898675, 0.0]"
      ]
     },
     "execution_count": 16,
     "metadata": {},
     "output_type": "execute_result"
    }
   ],
   "source": [
    "from sklearn.dummy import DummyClassifier\n",
    "from sklearn.model_selection import cross_val_predict\n",
    "from sklearn.metrics import f1_score\n",
    "\n",
    "strategies = ['most_frequent', 'prior', 'stratified', 'uniform', 'constant']\n",
    "  \n",
    "F1_scores = []\n",
    "for s in strategies:\n",
    "    if s =='constant':\n",
    "        dclf = DummyClassifier(strategy = s, random_state = 42, constant = 0)\n",
    "    else:\n",
    "        dclf = DummyClassifier(strategy = s, random_state = 42)\n",
    "    y_train_pred = cross_val_predict( dclf, X_train, y_train, cv=3)\n",
    "    f1 = f1_score(y_train, y_train_pred)\n",
    "    F1_scores.append(f1)\n",
    "F1_scores"
   ]
  },
  {
   "cell_type": "code",
   "execution_count": 17,
   "metadata": {},
   "outputs": [
    {
     "name": "stderr",
     "output_type": "stream",
     "text": [
      "/home/nnamdi/.local/lib/python3.6/site-packages/seaborn/_decorators.py:43: FutureWarning: Pass the following variables as keyword args: x, y. From version 0.12, the only valid positional argument will be `data`, and passing other arguments without an explicit keyword will result in an error or misinterpretation.\n",
      "  FutureWarning\n"
     ]
    },
    {
     "data": {
      "image/png": "[encoded data removed]",
      "text/plain": [
       "<Figure size 432x288 with 1 Axes>"
      ]
     },
     "metadata": {
      "needs_background": "light"
     },
     "output_type": "display_data"
    }
   ],
   "source": [
    "ax = sns.stripplot(strategies, F1_scores);\n",
    "ax.set(xlabel ='Strategy', ylabel ='F1 Score', title='Comparison of F1 scores for baseline, random and constant models')\n",
    "plt.show()"
   ]
  },
  {
   "cell_type": "markdown",
   "metadata": {},
   "source": [
    "<br>"
   ]
  },
  {
   "cell_type": "markdown",
   "metadata": {
    "id": "CKgMZgk68oag"
   },
   "source": [
    "### D) Prepare the Data Inputs for Machine Learning [6 points]\n",
    "\n",
    "Your heuristic model can be taken as your 'benchmark' model, or \"latest best\". You will now try to beat its performance using ML techniques. \n",
    "\n",
    "First, build data preprocessing pipeline that transforms your train and test datasets into a form suitable for ML training and inference. You can write your own functions, or leverage the scikit-learn pipelines we demonstrated in class. The choice is yours. \n",
    "\n",
    "Ensure your data preprocessing pipeline accounts for the following:\n",
    "* input features are on the correct scale\n",
    "* categorical features can be processed by the model\n",
    "* missing or erroneous values are handled\n",
    "\n",
    "\n",
    "**NOTE**: if using scikit-learn's ColumnTransformer, please be sure to separate your target labels from your features prior to applying the ColumnTransformer, because ColumnTransformer drops the column names and may return them in an unexpected order. \n"
   ]
  },
  {
   "cell_type": "code",
   "execution_count": 18,
   "metadata": {
    "id": "8sSX4QpI-DG5"
   },
   "outputs": [],
   "source": [
    "training_data = X_train.copy()\n",
    "training_labels = y_train.copy()\n",
    "\n",
    "### Pipeline for numerical variables\n",
    "from sklearn.pipeline import Pipeline\n",
    "from sklearn.preprocessing import StandardScaler\n",
    "from sklearn.impute import SimpleImputer\n",
    "from sklearn.preprocessing import OneHotEncoder\n",
    "\n",
    "num_pipeline = Pipeline([('imputer', SimpleImputer(strategy=\"median\")),('std_scaler', StandardScaler())])\n",
    "\n",
    "### ColumnTransformer for training data set\n",
    "try:\n",
    "    from sklearn.compose import ColumnTransformer\n",
    "except ImportError:\n",
    "    from future_encoders import ColumnTransformer \n",
    "num_attribs = ['culmen_length_mm', 'culmen_depth_mm', 'flipper_length_mm', 'body_mass_g']\n",
    "cat_attribs = [\"island\"]\n",
    "\n",
    "full_pipeline = ColumnTransformer([\n",
    "        (\"num\", num_pipeline, num_attribs),\n",
    "        (\"cat\", OneHotEncoder(), cat_attribs)])\n",
    "\n",
    "X_train_tr = full_pipeline.fit_transform(training_data)"
   ]
  },
  {
   "cell_type": "code",
   "execution_count": 19,
   "metadata": {},
   "outputs": [],
   "source": [
    "test_data = X_test.copy()\n",
    "test_labels = y_test.copy()\n",
    "\n",
    "### Pipeline for numerical variables\n",
    "num_pipeline = Pipeline([('imputer', SimpleImputer(strategy=\"median\")),('std_scaler', StandardScaler())])\n",
    "\n",
    "### ColumnTransformer for training data set\n",
    "try:\n",
    "    from sklearn.compose import ColumnTransformer\n",
    "except ImportError:\n",
    "    from future_encoders import ColumnTransformer \n",
    "num_attribs = ['culmen_length_mm', 'culmen_depth_mm', 'flipper_length_mm', 'body_mass_g']\n",
    "cat_attribs = [\"island\"]\n",
    "\n",
    "full_pipeline = ColumnTransformer([\n",
    "        (\"num\", num_pipeline, num_attribs),\n",
    "        (\"cat\", OneHotEncoder(), cat_attribs)])\n",
    "\n",
    "X_test_tr = full_pipeline.fit_transform(test_data)"
   ]
  },
  {
   "cell_type": "markdown",
   "metadata": {},
   "source": [
    "<br>"
   ]
  },
  {
   "cell_type": "markdown",
   "metadata": {
    "id": "6rqixJb1I4Ee"
   },
   "source": [
    "### E) Train and Compare ML Classifiers [3 points]\n",
    "\n",
    "**Without modifying any of the provided hyperparameters**, train the following three classifiers using F1 score and Cross-Validation (CV). \n",
    "\n",
    "> Note: you **do not** need to optimize any of these models to receive full marks for this assignment. We won't judge model optimization until later assignments, except for the Bonus question at the end. \n"
   ]
  },
  {
   "cell_type": "code",
   "execution_count": 20,
   "metadata": {
    "id": "U9wU2glOoHeX"
   },
   "outputs": [],
   "source": [
    "from sklearn.linear_model import SGDClassifier\n",
    "from sklearn.tree import DecisionTreeClassifier\n",
    "from sklearn.ensemble import AdaBoostClassifier\n",
    "\n",
    "# use these classifiers, without changing their settings\n",
    "perceptron_clf = SGDClassifier(max_iter=100, loss='perceptron', random_state=42)\n",
    "tree_clf = DecisionTreeClassifier(max_features=2, max_depth=2, random_state=42)\n",
    "ada_clf = AdaBoostClassifier(random_state=42)\n"
   ]
  },
  {
   "cell_type": "markdown",
   "metadata": {
    "id": "NgL71W7usRav"
   },
   "source": [
    "i) Compare their CV scores side-by-side in a plot, showing the mean score plus error bars representing the standard deviation. Which model performs the best? Does it perform better than your original heuristic model? [2 points]\n",
    "\n",
    "> NOTE: if a model does not converge or gives only NaNs as output, try changing `random_state` and see if that makes a difference. \n"
   ]
  },
  {
   "cell_type": "code",
   "execution_count": 21,
   "metadata": {},
   "outputs": [
    {
     "name": "stderr",
     "output_type": "stream",
     "text": [
      "[Parallel(n_jobs=1)]: Using backend SequentialBackend with 1 concurrent workers.\n",
      "[Parallel(n_jobs=1)]: Done   1 out of   1 | elapsed:    0.0s remaining:    0.0s\n",
      "[Parallel(n_jobs=1)]: Done   2 out of   2 | elapsed:    0.0s remaining:    0.0s\n",
      "[Parallel(n_jobs=1)]: Done   3 out of   3 | elapsed:    0.0s remaining:    0.0s\n",
      "[Parallel(n_jobs=1)]: Done   3 out of   3 | elapsed:    0.0s finished\n",
      "[Parallel(n_jobs=1)]: Using backend SequentialBackend with 1 concurrent workers.\n",
      "[Parallel(n_jobs=1)]: Done   1 out of   1 | elapsed:    0.0s remaining:    0.0s\n",
      "[Parallel(n_jobs=1)]: Done   2 out of   2 | elapsed:    0.0s remaining:    0.0s\n",
      "[Parallel(n_jobs=1)]: Done   3 out of   3 | elapsed:    0.0s remaining:    0.0s\n",
      "[Parallel(n_jobs=1)]: Done   3 out of   3 | elapsed:    0.0s finished\n",
      "[Parallel(n_jobs=1)]: Using backend SequentialBackend with 1 concurrent workers.\n",
      "[Parallel(n_jobs=1)]: Done   1 out of   1 | elapsed:    0.1s remaining:    0.0s\n",
      "[Parallel(n_jobs=1)]: Done   2 out of   2 | elapsed:    0.2s remaining:    0.0s\n"
     ]
    },
    {
     "name": "stdout",
     "output_type": "stream",
     "text": [
      "[CV] END ................................ score: (test=0.990) total time=   0.0s\n",
      "[CV] END ................................ score: (test=0.980) total time=   0.0s\n",
      "[CV] END ................................ score: (test=1.000) total time=   0.0s\n",
      "[CV] END ................................ score: (test=0.879) total time=   0.0s\n",
      "[CV] END ................................ score: (test=0.859) total time=   0.0s\n",
      "[CV] END ................................ score: (test=0.889) total time=   0.0s\n",
      "[CV] END ................................ score: (test=0.990) total time=   0.1s\n",
      "[CV] END ................................ score: (test=1.000) total time=   0.1s\n",
      "[CV] END ................................ score: (test=0.980) total time=   0.1s\n"
     ]
    },
    {
     "name": "stderr",
     "output_type": "stream",
     "text": [
      "[Parallel(n_jobs=1)]: Done   3 out of   3 | elapsed:    0.2s remaining:    0.0s\n",
      "[Parallel(n_jobs=1)]: Done   3 out of   3 | elapsed:    0.2s finished\n"
     ]
    }
   ],
   "source": [
    "from sklearn.model_selection import cross_val_score\n",
    "CV_score_perceptron = cross_val_score(perceptron_clf, X_train_tr, training_labels, cv=3, scoring=\"accuracy\", verbose=5)\n",
    "CV_score_tree = cross_val_score(tree_clf, X_train_tr, training_labels, cv=3, scoring=\"accuracy\", verbose=5)\n",
    "CV_score_ADA = cross_val_score(ada_clf, X_train_tr, training_labels, cv=3, scoring=\"accuracy\", verbose=5)"
   ]
  },
  {
   "cell_type": "code",
   "execution_count": 23,
   "metadata": {},
   "outputs": [
    {
     "data": {
      "image/png": "[encoded data removed]",
      "text/plain": [
       "<Figure size 432x288 with 1 Axes>"
      ]
     },
     "metadata": {
      "needs_background": "light"
     },
     "output_type": "display_data"
    },
    {
     "data": {
      "text/html": [
       "<div>\n",
       "<style scoped>\n",
       "    .dataframe tbody tr th:only-of-type {\n",
       "        vertical-align: middle;\n",
       "    }\n",
       "\n",
       "    .dataframe tbody tr th {\n",
       "        vertical-align: top;\n",
       "    }\n",
       "\n",
       "    .dataframe thead th {\n",
       "        text-align: right;\n",
       "    }\n",
       "</style>\n",
       "<table border=\"1\" class=\"dataframe\">\n",
       "  <thead>\n",
       "    <tr style=\"text-align: right;\">\n",
       "      <th></th>\n",
       "      <th>Mean</th>\n",
       "      <th>Std</th>\n",
       "    </tr>\n",
       "  </thead>\n",
       "  <tbody>\n",
       "    <tr>\n",
       "      <th>Perceptron</th>\n",
       "      <td>0.9899</td>\n",
       "      <td>0.0082</td>\n",
       "    </tr>\n",
       "    <tr>\n",
       "      <th>Decision_tree</th>\n",
       "      <td>0.8754</td>\n",
       "      <td>0.0126</td>\n",
       "    </tr>\n",
       "    <tr>\n",
       "      <th>ADA</th>\n",
       "      <td>0.9899</td>\n",
       "      <td>0.0082</td>\n",
       "    </tr>\n",
       "  </tbody>\n",
       "</table>\n",
       "</div>"
      ],
      "text/plain": [
       "                 Mean     Std\n",
       "Perceptron     0.9899  0.0082\n",
       "Decision_tree  0.8754  0.0126\n",
       "ADA            0.9899  0.0082"
      ]
     },
     "execution_count": 23,
     "metadata": {},
     "output_type": "execute_result"
    }
   ],
   "source": [
    "algo_score = [CV_score_perceptron,CV_score_tree,CV_score_ADA]\n",
    "algo_names = ['Perceptron','Decision_tree','ADA']\n",
    "dicts={}\n",
    "values = []\n",
    "for score in algo_score:\n",
    "    mean = round(score.mean(),4)\n",
    "    std = round(score.std(),4)\n",
    "    values.append((mean, std))\n",
    "for i in range(len(algo_names)):\n",
    "    dicts[algo_names[i]] = values[i]\n",
    "\n",
    "df_CV_scores = pd.DataFrame.from_dict(dicts, orient='index', columns=['Mean','Std'])\n",
    "x = df_CV_scores.index\n",
    "y = df_CV_scores['Mean']\n",
    "e = df_CV_scores['Std']\n",
    "plt.bar(x,y, color=\"grey\")\n",
    "plt.ylabel(\"Mean\")\n",
    "plt.errorbar(x, y, yerr=e, fmt='o',ecolor = 'teal',color='black',marker = \"|\")\n",
    "plt.show()\n",
    "df_CV_scores"
   ]
  },
  {
   "cell_type": "markdown",
   "metadata": {
    "id": "_vXdzczetqoz"
   },
   "source": [
    "ii) Now take the DecisionTree classifier and plot its CV score for a few different values of `max_features` and `max_depth`. Do you notice any impact on performance? State any reasons you can think of that migth explain the changes (or lack thereof) that you see. [1 point]"
   ]
  },
  {
   "cell_type": "code",
   "execution_count": 24,
   "metadata": {
    "scrolled": true
   },
   "outputs": [
    {
     "name": "stdout",
     "output_type": "stream",
     "text": [
      "[CV] END ................................ score: (test=0.808) total time=   0.0s\n",
      "[CV] END ................................ score: (test=0.798) total time=   0.0s\n",
      "[CV] END ................................ score: (test=0.798) total time=   0.0s\n",
      "[CV] END ................................ score: (test=0.879) total time=   0.0s\n",
      "[CV] END ................................ score: (test=0.859) total time=   0.0s\n",
      "[CV] END ................................ score: (test=0.889) total time=   0.0s\n",
      "[CV] END ................................ score: (test=0.980) total time=   0.0s\n",
      "[CV] END ................................ score: (test=0.990) total time=   0.0s\n",
      "[CV] END ................................ score: (test=0.980) total time=   0.0s\n",
      "[CV] END ................................ score: (test=0.990) total time=   0.0s\n",
      "[CV] END ................................ score: (test=1.000) total time=   0.0s\n",
      "[CV] END ................................ score: (test=0.980) total time=   0.0s\n",
      "[CV] END ................................ score: (test=0.990) total time=   0.0s\n",
      "[CV] END ................................ score: (test=0.970) total time=   0.0s\n",
      "[CV] END ................................ score: (test=0.980) total time=   0.0s\n"
     ]
    },
    {
     "name": "stderr",
     "output_type": "stream",
     "text": [
      "[Parallel(n_jobs=1)]: Using backend SequentialBackend with 1 concurrent workers.\n",
      "[Parallel(n_jobs=1)]: Done   1 out of   1 | elapsed:    0.0s remaining:    0.0s\n",
      "[Parallel(n_jobs=1)]: Done   2 out of   2 | elapsed:    0.0s remaining:    0.0s\n",
      "[Parallel(n_jobs=1)]: Done   3 out of   3 | elapsed:    0.0s remaining:    0.0s\n",
      "[Parallel(n_jobs=1)]: Done   3 out of   3 | elapsed:    0.0s finished\n",
      "[Parallel(n_jobs=1)]: Using backend SequentialBackend with 1 concurrent workers.\n",
      "[Parallel(n_jobs=1)]: Done   1 out of   1 | elapsed:    0.0s remaining:    0.0s\n",
      "[Parallel(n_jobs=1)]: Done   2 out of   2 | elapsed:    0.0s remaining:    0.0s\n",
      "[Parallel(n_jobs=1)]: Done   3 out of   3 | elapsed:    0.0s remaining:    0.0s\n",
      "[Parallel(n_jobs=1)]: Done   3 out of   3 | elapsed:    0.0s finished\n",
      "[Parallel(n_jobs=1)]: Using backend SequentialBackend with 1 concurrent workers.\n",
      "[Parallel(n_jobs=1)]: Done   1 out of   1 | elapsed:    0.0s remaining:    0.0s\n",
      "[Parallel(n_jobs=1)]: Done   2 out of   2 | elapsed:    0.0s remaining:    0.0s\n",
      "[Parallel(n_jobs=1)]: Done   3 out of   3 | elapsed:    0.0s remaining:    0.0s\n",
      "[Parallel(n_jobs=1)]: Done   3 out of   3 | elapsed:    0.0s finished\n",
      "[Parallel(n_jobs=1)]: Using backend SequentialBackend with 1 concurrent workers.\n",
      "[Parallel(n_jobs=1)]: Done   1 out of   1 | elapsed:    0.0s remaining:    0.0s\n",
      "[Parallel(n_jobs=1)]: Done   2 out of   2 | elapsed:    0.0s remaining:    0.0s\n",
      "[Parallel(n_jobs=1)]: Done   3 out of   3 | elapsed:    0.0s remaining:    0.0s\n",
      "[Parallel(n_jobs=1)]: Done   3 out of   3 | elapsed:    0.0s finished\n",
      "[Parallel(n_jobs=1)]: Using backend SequentialBackend with 1 concurrent workers.\n",
      "[Parallel(n_jobs=1)]: Done   1 out of   1 | elapsed:    0.0s remaining:    0.0s\n",
      "[Parallel(n_jobs=1)]: Done   2 out of   2 | elapsed:    0.0s remaining:    0.0s\n",
      "[Parallel(n_jobs=1)]: Done   3 out of   3 | elapsed:    0.0s remaining:    0.0s\n",
      "[Parallel(n_jobs=1)]: Done   3 out of   3 | elapsed:    0.0s finished\n"
     ]
    }
   ],
   "source": [
    "dict = {}\n",
    "for i in range(1,6):\n",
    "    tree_clf = DecisionTreeClassifier(max_features=i, max_depth=i, random_state=42)\n",
    "    CV_score_tree = cross_val_score(tree_clf, X_train_tr, training_labels, cv=3, scoring=\"accuracy\", verbose=5)\n",
    "    mean_score = CV_score_tree.mean()\n",
    "    #tree_score.append(mean_score)\n",
    "    dict[i]=mean_score\n"
   ]
  },
  {
   "cell_type": "code",
   "execution_count": 26,
   "metadata": {
    "id": "cPRL3iAy0ZWL"
   },
   "outputs": [
    {
     "data": {
      "image/png": "[encoded data removed]",
      "text/plain": [
       "<Figure size 432x288 with 1 Axes>"
      ]
     },
     "metadata": {
      "needs_background": "light"
     },
     "output_type": "display_data"
    }
   ],
   "source": [
    "tree_score_df = pd.DataFrame.from_dict(dict, orient='index', columns=['CV-score'])\n",
    "tree_score_df.plot(xlabel=(\"max_features or max_depth\"),ylabel=\"CV score\");\n"
   ]
  },
  {
   "cell_type": "markdown",
   "metadata": {},
   "source": [
    "At a max_depth of 2 leaves or maximum of 2 features, the decision tree classifier underfitted the training data whcih explained why it had the lowest cross validation score. As can be seen in the plot above, increasing the number of features or maximum depth of the tree directly proportionally increased the cross-validation score of the decision tree classifier up until 4 features after which increases in the number of features resulted to overfitting of data."
   ]
  },
  {
   "cell_type": "markdown",
   "metadata": {},
   "source": [
    "<br>"
   ]
  },
  {
   "cell_type": "markdown",
   "metadata": {
    "id": "zUSe3e61bNj-"
   },
   "source": [
    "### F) Examine Misclassifications [2 points]\n",
    "\n",
    "Plot a confusion matrix for your choice of best model and answer the following: \n",
    "* What are the True Positive and True Negative rates of your model? What is your model's Precision? What is its Recall?\n",
    "* If you wanted to ensure that you did not 'miss' any Chinstraps (i.e. all actual Chinstraps are correctly identified), should you optimize for Precision or Recall?\n",
    "\n",
    " \n",
    "\n",
    "> Note: We'll end the assignment here, but a natural next-step would be to examine the samples that were misclassified searching for trends that explain why (e.g. are these samples near the threshold of a decision boundary? etc). "
   ]
  },
  {
   "cell_type": "code",
   "execution_count": 28,
   "metadata": {
    "id": "JFDYtNMc23rK"
   },
   "outputs": [
    {
     "data": {
      "text/plain": [
       "array([[235,   3],\n",
       "       [  0,  59]])"
      ]
     },
     "execution_count": 28,
     "metadata": {},
     "output_type": "execute_result"
    }
   ],
   "source": [
    "# Use cross validation to generate predictions\n",
    "from sklearn.model_selection import cross_val_predict\n",
    "y_train_pred = cross_val_predict(perceptron_clf, X_train_tr, training_labels, cv=3)\n",
    "\n",
    "# Confusion matrix\n",
    "from sklearn.metrics import confusion_matrix\n",
    "confusion_matrix(training_labels, y_train_pred)"
   ]
  },
  {
   "cell_type": "code",
   "execution_count": 32,
   "metadata": {},
   "outputs": [
    {
     "data": {
      "text/plain": [
       "1.0"
      ]
     },
     "execution_count": 32,
     "metadata": {},
     "output_type": "execute_result"
    }
   ],
   "source": [
    "TP = 59\n",
    "FP = 3\n",
    "FN = 0\n",
    "TN = 235\n",
    "\n",
    "# TPR = TP/TP+FN\n",
    "TPR = 59 / (59 + 0)\n",
    "TPR\n"
   ]
  },
  {
   "cell_type": "code",
   "execution_count": 33,
   "metadata": {},
   "outputs": [
    {
     "data": {
      "text/plain": [
       "0.9873949579831933"
      ]
     },
     "execution_count": 33,
     "metadata": {},
     "output_type": "execute_result"
    }
   ],
   "source": [
    "# TNR=TN/(FP+TN)\n",
    "TNR = 235 / (3+235)\n",
    "TNR"
   ]
  },
  {
   "cell_type": "code",
   "execution_count": 34,
   "metadata": {},
   "outputs": [
    {
     "name": "stdout",
     "output_type": "stream",
     "text": [
      "precision score is:  0.9516129032258065\n",
      "recall score is:  1.0\n"
     ]
    }
   ],
   "source": [
    "from sklearn.metrics import precision_score, recall_score\n",
    "print(\"precision score is: \",precision_score(training_labels, y_train_pred)) # accuracy of positive predictions\n",
    "print(\"recall score is: \",recall_score(training_labels, y_train_pred))"
   ]
  },
  {
   "cell_type": "markdown",
   "metadata": {},
   "source": [
    "I would optimize Precision if I do not want to miss any Chinstraps."
   ]
  },
  {
   "cell_type": "markdown",
   "metadata": {},
   "source": [
    "<br>"
   ]
  },
  {
   "cell_type": "markdown",
   "metadata": {
    "id": "IyKVn2N0bsfx"
   },
   "source": [
    "# Part 2) Multilabel Classification [BONUS - 2 points]\n",
    "***\n",
    "\n",
    "> NOTE : This section is entirely optional. Attempt it if you'd like extra practice. Marks scored here will count towards the total for this assignment and can compensate for any points lost in Part 1. The final value of the assignment will is capped at 100%. \n",
    "\n",
    "Now your goal is to successfully classify each sample into one of the following species: Chinstrap, Adélie, or Gentoo.\n",
    "\n",
    "Show and explain the steps you take. Use any ML classification method of choice. Feel free to experiment with hyperparemeter tuning (e.g. grid search) or any other technique you think might lead to a better model. \n",
    "\n",
    "We have re-loaded the original dataset for you below, and the target variable will now be `species`. \n"
   ]
  },
  {
   "cell_type": "code",
   "execution_count": null,
   "metadata": {
    "id": "13QM0oTvckxE"
   },
   "outputs": [],
   "source": [
    "df_penguin_data = pd.read_csv(\"./2022-a1-penguin-classification.csv\")\n",
    "df_penguin_data.head()"
   ]
  },
  {
   "cell_type": "code",
   "execution_count": null,
   "metadata": {},
   "outputs": [],
   "source": []
  },
  {
   "cell_type": "code",
   "execution_count": null,
   "metadata": {},
   "outputs": [],
   "source": [
    "forest_clf.fit(X_train, y_train)"
   ]
  },
  {
   "cell_type": "markdown",
   "metadata": {},
   "source": [
    "<br>"
   ]
  }
 ],
 "metadata": {
  "colab": {
   "collapsed_sections": [],
   "name": "2022-Assignment1-Classification",
   "provenance": []
  },
  "kernelspec": {
   "display_name": "Python 3",
   "language": "python",
   "name": "python3"
  },
  "language_info": {
   "codemirror_mode": {
    "name": "ipython",
    "version": 3
   },
   "file_extension": ".py",
   "mimetype": "text/x-python",
   "name": "python",
   "nbconvert_exporter": "python",
   "pygments_lexer": "ipython3",
   "version": "3.6.9"
  }
 },
 "nbformat": 4,
 "nbformat_minor": 1
}
