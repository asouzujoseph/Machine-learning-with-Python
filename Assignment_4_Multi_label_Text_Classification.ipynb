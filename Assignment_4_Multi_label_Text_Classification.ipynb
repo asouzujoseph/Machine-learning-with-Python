{
  "cells": [
    {
      "cell_type": "markdown",
      "metadata": {
        "id": "view-in-github",
        "colab_type": "text"
      },
      "source": [
        "<a href=\"https://colab.research.google.com/github/asouzujoseph/Machine-learning-with-Python/blob/main/Assignment_4_Multi_label_Text_Classification.ipynb\" target=\"_parent\"><img src=\"https://colab.research.google.com/assets/colab-badge.svg\" alt=\"Open In Colab\"/></a>"
      ]
    },
    {
      "cell_type": "markdown",
      "metadata": {
        "id": "jYnV4CTTPNO7"
      },
      "source": [
        "# SCS 3253: Machine Learning\n",
        "> Assignment 4: Multi-label Text Classification\n",
        "\n",
        "> Assigned: July 19th, 2022\n",
        "\n",
        "> **Due Date: August 2nd, 2022, 6:30pm EST**\n",
        "\n",
        "Please review the assignment early so you have ample opportunity to ask clarifying questions. "
      ]
    },
    {
      "cell_type": "markdown",
      "metadata": {
        "id": "PLx-XyaePRlq"
      },
      "source": [
        "### Your name & student number:\n",
        "\n",
        "<pre> Name: Nnamdi joseph Asouzu </pre>\n",
        "\n",
        "<pre> Student Number: X487118 </pre>\n"
      ]
    },
    {
      "cell_type": "markdown",
      "metadata": {
        "id": "RE2CN5nsPRbz"
      },
      "source": [
        "# Instructions and Marking Guidelines\n",
        "***\n",
        "This assignment will account for 15% of your final grade. It is worth 30 marks in total **(8 for Part 1, 6 for Part 2, and 16 for Part 3).**\n",
        "\n",
        "Please read the provided markdown (text) cells carefully. Some subsections contain multiple questions. Be sure to answer all questions. \n",
        "\n",
        "Answers should be provided within this same notebook and will be a mix of code, outputs (e.g. plots, trained models), and written reponses. \n",
        "\n",
        "#### TIPS\n",
        "\n",
        "\n",
        "> ⏳ **Please budget 4-5 hours to complete each assignment.** Reach out to us if you think your assignment will be more than 1 week late. \n",
        "\n",
        "> 📚 **You will likely need to refer to the documentation of libraries such as sklearn** while completing this assignment. Looking up things in 'the docs' is part of the day-to-day life of a Data Scientist. We encourage you to visit the docs if you haven't already. It's a great way to become more familiar and comfortable with the ML tools available to you. **When in doubt, GOOGLE!** \n",
        "* You can find the scikit-learn docs [here](https://scikit-learn.org/stable/modules/classes.html)\n",
        "* You can also find a variety of helpful guides and tutorials through the [main scikit-learn website](https://scikit-learn.org/stable/)\n",
        "* Other helpful references can be found here:\n",
        " * [MatPlotLib](https://matplotlib.org/)\n",
        " * [Seaborn](seaborn.pydata.org)\n",
        " * [Pandas](https://pandas.pydata.org/docs/)\n",
        " * [Numpy](https://numpy.org/doc/)\n",
        "\n",
        "\n",
        "> 💣  **When you enounter errors** (because it's a law of nature in coding), please carefully read what the error message is telling you. Debugging is a key skill to develop. It's about understanding the root cause of an error, trying a fix, and repeating with a new hypothesis as necessary. If you get totally stuck, try googling the error message. You can find many common errors and solutions documented on [stackoverflow](https://stackoverflow.com/). \n",
        "\n",
        "\n",
        "\n",
        "### Marking Guidelines\n",
        "\n",
        "All questions will state the number of marks available, e.g. [X points].\n",
        "\n",
        "In machine learning, there is not necessarily one \"correct\" answer to a given modelling problem. You **do not** need to have the \"best\" performing model in the class in order to receive full marks. Rather, we will be marking assignments individually, based on the following criteria:\n",
        "\n",
        "* **Demonstration of core concepts [40%]**\n",
        " * Do your answers to written questions demonstrate you understand and can apply the core concepts taught in class? Are those answers justified by the calculations / plots / models you produced?\n",
        "\n",
        "* **Reasonable outputs [30%]** \n",
        " * Do the values you obtain make sense? Did you follow the expected steps. Do you show all steps and make your reasoning clear?\n",
        "\n",
        "* **Effort [15%]** \n",
        " * Are data visualizations or plots clear and easy to interpret? Did you make a reasonable effort to maximize the performance of the models you submitted?\n",
        "\n",
        "* **Clean code [15%]** \n",
        " * Is your python code easy to follow? Related code should be organized into re-usable functions and not be scattered across notebook cells. Function and variable names should be well-chosen to convey what they do or represent. Functions should have docstrings explaining what they do. Comments should be used to explain the details of what you are doing, to help your evaluator follow along. "
      ]
    },
    {
      "cell_type": "code",
      "execution_count": 1,
      "metadata": {
        "id": "ru0awrdwxFoQ"
      },
      "outputs": [],
      "source": [
        "# === NOTEBOOK & IMPORT SETUP ===\n",
        "import pandas as pd\n",
        "import numpy as np\n",
        "import seaborn as sns\n",
        "import matplotlib\n",
        "import matplotlib.pyplot as plt\n",
        "import os\n",
        "from sklearn.model_selection import train_test_split\n",
        "from ast import literal_eval\n",
        "import tensorflow as tf\n",
        "import nltk\n",
        "import re\n",
        "import string\n",
        "from tensorflow import keras\n",
        "import random\n",
        "\n",
        "random.seed(102)\n",
        "pd.set_option(\"display.max_columns\", None)\n",
        "%matplotlib inline"
      ]
    },
    {
      "cell_type": "markdown",
      "metadata": {
        "id": "kU-jfbMRmz7s"
      },
      "source": [
        "# Dataset: Research Paper Topic Prediction\n",
        "***\n",
        "In this assignment, you will build a multi-label text classifier to predict the subject areas of arXiv (https://arxiv.org/) papers from their titles and abstract bodies. This type of classifier can be useful for conference submission portals like OpenReview. Given a paper abstract, the portal could provide suggestions for which areas the paper would best belong to.\n",
        "\n",
        "The raw dataset contains 51,774 rows and 3 columns. The columns include:\n",
        "- `titles`: The title of the research paper.\n",
        "- `summaries`: The research paper abstract.\n",
        "- `terms`: The subject area(s) (there can be multiple) for the research paper. These are your labels. Example labels include Machine Learning (cs.LG), Artificial Intelligence (cs.AI), and Cryptography and Security (cs.CR).\n",
        "\n",
        "We perform some light data cleaning below to remove duplicates and process the labels. **The final dataset you will be working with will be stored in the pandas dataframe `df_clean`.**\n"
      ]
    },
    {
      "cell_type": "markdown",
      "metadata": {
        "id": "YN2Z79wIuBQN"
      },
      "source": [
        "## Load Data"
      ]
    },
    {
      "cell_type": "code",
      "execution_count": 2,
      "metadata": {
        "id": "CLTQGPUNuBQN",
        "colab": {
          "base_uri": "https://localhost:8080/",
          "height": 293
        },
        "outputId": "be0c9ecf-21cf-4af7-bef0-13fbad545e2b"
      },
      "outputs": [
        {
          "output_type": "stream",
          "name": "stdout",
          "text": [
            "Raw data shape: (51774, 3)\n",
            "There are 12802 duplicate titles.\n",
            "There are 38972 rows in the deduplicated dataset.\n",
            "There are 2 summaries with len<100.\n",
            "There are 38970 rows in the filtered dataset.\n"
          ]
        },
        {
          "output_type": "execute_result",
          "data": {
            "text/plain": [
              "                                              titles  \\\n",
              "0  Survey on Semantic Stereo Matching / Semantic ...   \n",
              "1  FUTURE-AI: Guiding Principles and Consensus Re...   \n",
              "2  Enforcing Mutual Consistency of Hard Regions f...   \n",
              "3  Parameter Decoupling Strategy for Semi-supervi...   \n",
              "4  Background-Foreground Segmentation for Interio...   \n",
              "\n",
              "                                           summaries                  terms  \n",
              "0  Stereo matching is one of the widely used tech...         [cs.CV, cs.LG]  \n",
              "1  The recent advancements in artificial intellig...  [cs.CV, cs.AI, cs.LG]  \n",
              "2  In this paper, we proposed a novel mutual cons...         [cs.CV, cs.AI]  \n",
              "3  Consistency training has proven to be an advan...                [cs.CV]  \n",
              "4  To ensure safety in automated driving, the cor...         [cs.CV, cs.LG]  "
            ],
            "text/html": [
              "\n",
              "  <div id=\"df-0705b3dc-b4d7-4da9-abf9-e100f5a9dfea\">\n",
              "    <div class=\"colab-df-container\">\n",
              "      <div>\n",
              "<style scoped>\n",
              "    .dataframe tbody tr th:only-of-type {\n",
              "        vertical-align: middle;\n",
              "    }\n",
              "\n",
              "    .dataframe tbody tr th {\n",
              "        vertical-align: top;\n",
              "    }\n",
              "\n",
              "    .dataframe thead th {\n",
              "        text-align: right;\n",
              "    }\n",
              "</style>\n",
              "<table border=\"1\" class=\"dataframe\">\n",
              "  <thead>\n",
              "    <tr style=\"text-align: right;\">\n",
              "      <th></th>\n",
              "      <th>titles</th>\n",
              "      <th>summaries</th>\n",
              "      <th>terms</th>\n",
              "    </tr>\n",
              "  </thead>\n",
              "  <tbody>\n",
              "    <tr>\n",
              "      <th>0</th>\n",
              "      <td>Survey on Semantic Stereo Matching / Semantic ...</td>\n",
              "      <td>Stereo matching is one of the widely used tech...</td>\n",
              "      <td>[cs.CV, cs.LG]</td>\n",
              "    </tr>\n",
              "    <tr>\n",
              "      <th>1</th>\n",
              "      <td>FUTURE-AI: Guiding Principles and Consensus Re...</td>\n",
              "      <td>The recent advancements in artificial intellig...</td>\n",
              "      <td>[cs.CV, cs.AI, cs.LG]</td>\n",
              "    </tr>\n",
              "    <tr>\n",
              "      <th>2</th>\n",
              "      <td>Enforcing Mutual Consistency of Hard Regions f...</td>\n",
              "      <td>In this paper, we proposed a novel mutual cons...</td>\n",
              "      <td>[cs.CV, cs.AI]</td>\n",
              "    </tr>\n",
              "    <tr>\n",
              "      <th>3</th>\n",
              "      <td>Parameter Decoupling Strategy for Semi-supervi...</td>\n",
              "      <td>Consistency training has proven to be an advan...</td>\n",
              "      <td>[cs.CV]</td>\n",
              "    </tr>\n",
              "    <tr>\n",
              "      <th>4</th>\n",
              "      <td>Background-Foreground Segmentation for Interio...</td>\n",
              "      <td>To ensure safety in automated driving, the cor...</td>\n",
              "      <td>[cs.CV, cs.LG]</td>\n",
              "    </tr>\n",
              "  </tbody>\n",
              "</table>\n",
              "</div>\n",
              "      <button class=\"colab-df-convert\" onclick=\"convertToInteractive('df-0705b3dc-b4d7-4da9-abf9-e100f5a9dfea')\"\n",
              "              title=\"Convert this dataframe to an interactive table.\"\n",
              "              style=\"display:none;\">\n",
              "        \n",
              "  <svg xmlns=\"http://www.w3.org/2000/svg\" height=\"24px\"viewBox=\"0 0 24 24\"\n",
              "       width=\"24px\">\n",
              "    <path d=\"M0 0h24v24H0V0z\" fill=\"none\"/>\n",
              "    <path d=\"M18.56 5.44l.94 2.06.94-2.06 2.06-.94-2.06-.94-.94-2.06-.94 2.06-2.06.94zm-11 1L8.5 8.5l.94-2.06 2.06-.94-2.06-.94L8.5 2.5l-.94 2.06-2.06.94zm10 10l.94 2.06.94-2.06 2.06-.94-2.06-.94-.94-2.06-.94 2.06-2.06.94z\"/><path d=\"M17.41 7.96l-1.37-1.37c-.4-.4-.92-.59-1.43-.59-.52 0-1.04.2-1.43.59L10.3 9.45l-7.72 7.72c-.78.78-.78 2.05 0 2.83L4 21.41c.39.39.9.59 1.41.59.51 0 1.02-.2 1.41-.59l7.78-7.78 2.81-2.81c.8-.78.8-2.07 0-2.86zM5.41 20L4 18.59l7.72-7.72 1.47 1.35L5.41 20z\"/>\n",
              "  </svg>\n",
              "      </button>\n",
              "      \n",
              "  <style>\n",
              "    .colab-df-container {\n",
              "      display:flex;\n",
              "      flex-wrap:wrap;\n",
              "      gap: 12px;\n",
              "    }\n",
              "\n",
              "    .colab-df-convert {\n",
              "      background-color: #E8F0FE;\n",
              "      border: none;\n",
              "      border-radius: 50%;\n",
              "      cursor: pointer;\n",
              "      display: none;\n",
              "      fill: #1967D2;\n",
              "      height: 32px;\n",
              "      padding: 0 0 0 0;\n",
              "      width: 32px;\n",
              "    }\n",
              "\n",
              "    .colab-df-convert:hover {\n",
              "      background-color: #E2EBFA;\n",
              "      box-shadow: 0px 1px 2px rgba(60, 64, 67, 0.3), 0px 1px 3px 1px rgba(60, 64, 67, 0.15);\n",
              "      fill: #174EA6;\n",
              "    }\n",
              "\n",
              "    [theme=dark] .colab-df-convert {\n",
              "      background-color: #3B4455;\n",
              "      fill: #D2E3FC;\n",
              "    }\n",
              "\n",
              "    [theme=dark] .colab-df-convert:hover {\n",
              "      background-color: #434B5C;\n",
              "      box-shadow: 0px 1px 3px 1px rgba(0, 0, 0, 0.15);\n",
              "      filter: drop-shadow(0px 1px 2px rgba(0, 0, 0, 0.3));\n",
              "      fill: #FFFFFF;\n",
              "    }\n",
              "  </style>\n",
              "\n",
              "      <script>\n",
              "        const buttonEl =\n",
              "          document.querySelector('#df-0705b3dc-b4d7-4da9-abf9-e100f5a9dfea button.colab-df-convert');\n",
              "        buttonEl.style.display =\n",
              "          google.colab.kernel.accessAllowed ? 'block' : 'none';\n",
              "\n",
              "        async function convertToInteractive(key) {\n",
              "          const element = document.querySelector('#df-0705b3dc-b4d7-4da9-abf9-e100f5a9dfea');\n",
              "          const dataTable =\n",
              "            await google.colab.kernel.invokeFunction('convertToInteractive',\n",
              "                                                     [key], {});\n",
              "          if (!dataTable) return;\n",
              "\n",
              "          const docLinkHtml = 'Like what you see? Visit the ' +\n",
              "            '<a target=\"_blank\" href=https://colab.research.google.com/notebooks/data_table.ipynb>data table notebook</a>'\n",
              "            + ' to learn more about interactive tables.';\n",
              "          element.innerHTML = '';\n",
              "          dataTable['output_type'] = 'display_data';\n",
              "          await google.colab.output.renderOutput(dataTable, element);\n",
              "          const docLink = document.createElement('div');\n",
              "          docLink.innerHTML = docLinkHtml;\n",
              "          element.appendChild(docLink);\n",
              "        }\n",
              "      </script>\n",
              "    </div>\n",
              "  </div>\n",
              "  "
            ]
          },
          "metadata": {},
          "execution_count": 2
        }
      ],
      "source": [
        "# Load data directly from github\n",
        "df = pd.read_csv(\"https://github.com/soumik12345/multi-label-text-classification/releases/download/v0.2/arxiv_data.csv\")\n",
        "print(f\"Raw data shape: {df.shape}\")\n",
        "\n",
        "# Drop duplicates\n",
        "print(f\"There are {sum(df.titles.duplicated())} duplicate titles.\")\n",
        "df_clean = df[~df[\"titles\"].duplicated()].copy()\n",
        "print(f\"There are {len(df_clean)} rows in the deduplicated dataset.\")\n",
        "\n",
        "# Remove summaries with len < 100\n",
        "print(f\"There are {sum(df_clean.summaries.apply(len)<100)} summaries with len<100.\")\n",
        "df_clean = df_clean[df_clean.summaries.apply(len)>=100].copy()\n",
        "\n",
        "# Remove terms that are present in 25 or less observations\n",
        "df_clean[\"terms\"] = df_clean[\"terms\"].apply(lambda x: literal_eval(x)) # Convert strings to lists\n",
        "all_terms = df_clean.terms.explode().value_counts()\n",
        "valid_terms = list(all_terms[all_terms>=30].index)\n",
        "\n",
        "def validate_terms(row, valid_terms):\n",
        "    return  [i for i in row['terms'] if i in valid_terms]\n",
        "\n",
        "df_clean['terms'] = df_clean.apply(validate_terms, args=[valid_terms], axis=1)\n",
        "df_clean = df_clean[df_clean.terms.apply(len)>=1].copy()\n",
        "print(f\"There are {len(df_clean)} rows in the filtered dataset.\")\n",
        "\n",
        "df_clean.head()"
      ]
    },
    {
      "cell_type": "markdown",
      "metadata": {
        "id": "ytwX7-guycO7"
      },
      "source": [
        "# Part 1: EDA [8 points total]\n",
        "***\n",
        "\n",
        "**Tip:** pace yourself. Spend enough time on EDA to get a good grip on the Data, but don't burn all of your time here if it risks not having enough time for the rest of the assignment. You can always return later to improve this section further. "
      ]
    },
    {
      "cell_type": "markdown",
      "metadata": {
        "id": "7guiKcEluBQP"
      },
      "source": [
        "## A) Target Inspection [3 points]\n",
        "\n",
        "Let's start off by inspecting the target colum. Your analysis could include (but is not restricted to):\n",
        "- How many unique target values are there? Remember that this is a **multi-label** problem (each observation can have more than one label)!\n",
        "- What does the distribution look like? \n",
        "- Are their any class imbalances? \n"
      ]
    },
    {
      "cell_type": "code",
      "execution_count": 3,
      "metadata": {
        "id": "sJHNgdBbuBQQ",
        "colab": {
          "base_uri": "https://localhost:8080/"
        },
        "outputId": "ce703799-4298-4dda-ce1d-2a2ea4f21e57"
      },
      "outputs": [
        {
          "output_type": "stream",
          "name": "stdout",
          "text": [
            " There are 63 unique target values \n"
          ]
        }
      ],
      "source": [
        "## unique target values\n",
        "number = len({x for l in df_clean.terms for x in l})\n",
        "print (f\" There are {number} unique target values \")"
      ]
    },
    {
      "cell_type": "code",
      "execution_count": 4,
      "metadata": {
        "id": "3IIhOJakayEa",
        "colab": {
          "base_uri": "https://localhost:8080/",
          "height": 295
        },
        "outputId": "eb752404-9994-4659-d20b-9dceea23bdcc"
      },
      "outputs": [
        {
          "output_type": "display_data",
          "data": {
            "text/plain": [
              "<Figure size 432x288 with 1 Axes>"
            ],
            "image/png": "[encoded data removed]"
          },
          "metadata": {
            "needs_background": "light"
          }
        }
      ],
      "source": [
        "tokens_dist = df_clean.terms.apply(len);\n",
        "tokens_dist.hist(bins=15);\n",
        "plt.xlabel(\"Number of terms per instance\");\n",
        "plt.ylabel(\"Number of instances\");\n",
        "plt.title(\"Distribution of target variable\");"
      ]
    },
    {
      "cell_type": "markdown",
      "metadata": {
        "id": "CdU9EOb56neV"
      },
      "source": [
        "There is imbalance in the target class; majority of the instances have inly one term linked to it.This imbalance will affect the accuracy of the multilabel classifier."
      ]
    },
    {
      "cell_type": "markdown",
      "metadata": {
        "id": "MPWtPqTguBQR"
      },
      "source": [
        "## B) Features Inspection [4 points]\n",
        "\n",
        "Now let's dig into the 'feature' columns (`titles` and `summaries`). Your analysis could include (but is not restricted to):\n",
        "- What are the most common words in each feature column?\n",
        "- What is the average word count?\n",
        "- Do word count distributions differ for instances with different 'terms' (labels)?"
      ]
    },
    {
      "cell_type": "code",
      "execution_count": 12,
      "metadata": {
        "id": "zyUgQZzsuBQR",
        "colab": {
          "base_uri": "https://localhost:8080/"
        },
        "outputId": "7469c02e-dc56-40fc-c02c-0771ed1e16f1"
      },
      "outputs": [
        {
          "output_type": "stream",
          "name": "stdout",
          "text": [
            "(188502,)\n"
          ]
        },
        {
          "output_type": "execute_result",
          "data": {
            "text/plain": [
              "the     441470\n",
              "of      267946\n",
              "and     247384\n",
              "to      219814\n",
              "a       212547\n",
              "in      135110\n",
              "is      103947\n",
              "for     100080\n",
              "on       94068\n",
              "that     89769\n",
              "Name: summaries, dtype: int64"
            ]
          },
          "metadata": {},
          "execution_count": 12
        }
      ],
      "source": [
        "from collections import Counter\n",
        "\n",
        "tokens = df.summaries.str.split()\n",
        "all_words = tokens.explode().value_counts()\n",
        "all_words[0:10]\n"
      ]
    },
    {
      "cell_type": "code",
      "source": [
        "from collections import Counter\n",
        "# df[\"text\"] = df[\"text\"].str.split(\" | \")\n",
        "df_clean.terms = df_clean.terms.apply(lambda x: [s.strip() for s in x])\n",
        "c = Counter([item for row in df_clean.terms for item in row])\n",
        "c.most_common(3)"
      ],
      "metadata": {
        "id": "awaPQMyI3xMw"
      },
      "execution_count": null,
      "outputs": []
    },
    {
      "cell_type": "markdown",
      "metadata": {
        "id": "NbEcbKtSuBQS"
      },
      "source": [
        "## C) Train Test Split [1 point]\n",
        "\n",
        "Perform the usual train-test-validation split. The validation set will be used during training (potentially for early-stopping criteria). The test set will be used to evaluate our models once we are happy with their performance."
      ]
    },
    {
      "cell_type": "code",
      "execution_count": null,
      "metadata": {
        "id": "sKSdoaP-uBQT"
      },
      "outputs": [],
      "source": [
        "X = df_clean.loc[:, df_clean.columns != 'terms']\n",
        "y =  df_clean.terms\n",
        "X_train, X_test, y_train, y_test = train_test_split(X, y, test_size=0.2, random_state=1)\n",
        "X_train, X_val, y_train, y_val = train_test_split(X_train, y_train, test_size=0.25, random_state=1) "
      ]
    },
    {
      "cell_type": "markdown",
      "metadata": {
        "id": "XLCYAXHXuBQT"
      },
      "source": [
        "# Part 2: Data Preprocessing [6 points]\n",
        "***\n"
      ]
    },
    {
      "cell_type": "markdown",
      "metadata": {
        "id": "OEm_7jK3uBQT"
      },
      "source": [
        "## A) Multi-Label Encoding [1 point]\n",
        "\n",
        "Alright, now that we have a good handle on the data, lets start to perform some preprocessing to prepare the data for our machine learning models.\n",
        "\n",
        "First you need to multi-hot encode the labels **(we can have more than 1 label per observation, so we use multi-hot as opposed to one-hot label encoding)**. We have already taken care of this for the training data using sklearn's `MultiLabelBinarizer`. All you need to do is **apply the same processing steps to the test and validation sets.** You are encouraged to look at the `MultiLabelBinarizer` docs if you don't understand the outputs of this module.\n",
        "\n",
        "> **NOTE:** The code below assumes you have you train set stored in the variable `train_df`; make adjustments to this variable as needed."
      ]
    },
    {
      "cell_type": "code",
      "execution_count": null,
      "metadata": {
        "id": "uS3j46xzuBQT",
        "colab": {
          "base_uri": "https://localhost:8080/"
        },
        "outputId": "91f11879-3691-4c67-ffbf-f04ce60cf928"
      },
      "outputs": [
        {
          "output_type": "stream",
          "name": "stdout",
          "text": [
            "(23382, 63)\n"
          ]
        },
        {
          "output_type": "execute_result",
          "data": {
            "text/plain": [
              "array([[0, 0, 0, 0, 0, 0, 0, 0, 0, 0, 0, 0, 0, 0, 0, 0, 0, 0, 0, 0, 0, 0,\n",
              "        0, 0, 1, 0, 0, 0, 0, 0, 0, 0, 0, 0, 0, 0, 0, 0, 0, 0, 0, 0, 0, 0,\n",
              "        0, 0, 0, 0, 0, 1, 0, 0, 0, 0, 0, 0, 0, 0, 0, 0, 0, 0, 0],\n",
              "       [0, 0, 0, 0, 0, 0, 0, 0, 0, 0, 0, 0, 0, 1, 0, 0, 0, 0, 0, 0, 0, 0,\n",
              "        0, 0, 1, 0, 0, 0, 0, 0, 0, 0, 0, 1, 0, 0, 0, 0, 0, 0, 0, 0, 0, 0,\n",
              "        0, 0, 0, 0, 0, 0, 0, 0, 0, 0, 0, 0, 0, 0, 0, 0, 0, 0, 0]])"
            ]
          },
          "metadata": {},
          "execution_count": 7
        }
      ],
      "source": [
        "from sklearn.preprocessing import MultiLabelBinarizer\n",
        "mlb = MultiLabelBinarizer()\n",
        "\n",
        "y_train = mlb.fit_transform(y_train.apply(set))\n",
        "\n",
        "# Should produce a matrix of shape (m, C), where m is # of observations, C is number of classes\n",
        "print(y_train.shape)\n",
        "y_train[0:2]"
      ]
    },
    {
      "cell_type": "code",
      "execution_count": null,
      "metadata": {
        "id": "y4z5S6F8uBQU"
      },
      "outputs": [],
      "source": [
        "y_val = mlb.fit_transform(y_val.apply(set))\n",
        "y_test = mlb.fit_transform(y_test.apply(set))"
      ]
    },
    {
      "cell_type": "markdown",
      "metadata": {
        "id": "3VG5TciCuBQU"
      },
      "source": [
        "## B) Text Preprocessing [5 points]\n",
        "\n",
        "Next we need to preprocess our text data. There are two main components to any basic text preprocessing pipeline:\n",
        "\n",
        "1. Perform text cleaning / tokenization. The whole process typically includes the following steps:\n",
        "    - Lowercase\n",
        "    - Remove punctuation, stematize, lematize (all optional)\n",
        "    - Tokenization\n",
        "    - Remove stop words\n",
        "2. Text vectorization. For this you could use a basic count vectorizer or a more sophisticated approach (like TF-IDF).\n",
        "\n",
        "Lucky for us, both of these steps can be taken care of with the use of sklearn's text preprocessing tools, namely `CountVectorizer` and `TfidfVectorizer`. If you look at the docs, you will see that these classes include arguments for the various text preprocessing steps (e.g. `strip_accents`, `lowercase`, `tokenizer`) as well as the vectorization steps (e.g `n_gram_range`, `max_features`). We have provided an example of how this works below. \n",
        "\n",
        "> **NOTE:**  Be sure to perform vectorization for the train, validation, and test sets (but be careful when calling `fit` vs `fit_transform`)."
      ]
    },
    {
      "cell_type": "code",
      "execution_count": null,
      "metadata": {
        "id": "6RtPMONeuBQU",
        "colab": {
          "base_uri": "https://localhost:8080/"
        },
        "outputId": "0d7d4300-a581-48ad-fb80-6f8b6f65ae6a"
      },
      "outputs": [
        {
          "output_type": "stream",
          "name": "stdout",
          "text": [
            "{'hello': 2, 'world': 13, 'name': 8, 'samantha': 11, 'like': 5, 'machine': 6, 'learning': 4, 'turtles': 12, 'one': 9, 'day': 0, 'machines': 7, 'rise': 10, 'enslave': 1, 'humanity': 3}\n"
          ]
        },
        {
          "output_type": "execute_result",
          "data": {
            "text/plain": [
              "array([[0, 0, 1, 0, 1, 1, 1, 0, 1, 0, 0, 1, 0, 1],\n",
              "       [0, 0, 0, 0, 0, 1, 0, 0, 0, 0, 0, 0, 1, 0],\n",
              "       [1, 1, 0, 1, 0, 0, 0, 1, 0, 1, 1, 0, 0, 0]])"
            ]
          },
          "metadata": {},
          "execution_count": 9
        }
      ],
      "source": [
        "# Sample vectorization code\n",
        "from sklearn.feature_extraction.text import CountVectorizer, TfidfVectorizer\n",
        "\n",
        "STOPWORDS = {'should', 'were', 'only', 'i', 'down', 'mightn', 'that', 'and', 'over', 'under', \"wouldn't\", 'now', 'hasn', \"you'll\", 'or', 'ours', 'my', 'does', 'd', 'no', 'because', 'very', 'but', 'such', \"hadn't\", \"haven't\", 'ain', 'yourself', 'weren', 'after', \"hasn't\", 'we', 'not', 'hers', 'how', 'don', 'doesn', 'me', \"you'd\", 'when', \"shouldn't\", 'having', 'he', 'through', 'can', 'themselves', 'whom', 'on', 'them', 'again', 'at', 'if', 'has', 'the', 'wouldn', 'isn', 'do', 'these', \"don't\", \"aren't\", 'too', 'just', 'their', 'most', \"should've\", 'was', 'did', 'yours', 'once', 's', 'from', 'off', 'myself', \"that'll\", 'will', 'doing', 'theirs', \"you're\", 'our', 'have', 'mustn', 'himself', 'of', 'her', 'until', 'more', 'while', 'him', 'there', 'between', 'below', 'your', 'a', 'yourselves', 'herself', 'into', 'who', \"weren't\", 'she', 'they', 'it', 'is', 'all', 'ma', 'both', 'needn', 'as', 'up', 'wasn', 'further', \"didn't\", 'here', 'so', 'by', 'above', 'few', 'had', \"isn't\", 'won', 'an', 'be', 'other', \"couldn't\", 'itself', 'nor', 'hadn', 'any', \"needn't\", \"shan't\", 'own', 'where', 'then', 'shouldn', 'this', 't', \"it's\", 'shan', 'each', \"you've\", 'in', 'are', \"mustn't\", 'which', 'during', 'for', 'same', 'why', 'haven', 'didn', \"won't\", 'what', 'y', 'before', 'being', 'ourselves', 've', 'll', 'out', \"wasn't\", 're', 'some', 'o', 'his', 'those', 'm', 'been', 'to', 'with', 'am', 'against', \"mightn't\", 'than', 'aren', 'couldn', \"she's\", 'its', 'you', \"doesn't\", 'about'}\n",
        "\n",
        "examples = [\n",
        "    \"Hello world! My name is Samantha and I like machine learning\",\n",
        "    \"I like turtles\",\n",
        "    \"One day, the machines will rise to enslave humanity\"\n",
        "]        \n",
        "cv = CountVectorizer(lowercase=True, stop_words=STOPWORDS)\n",
        "examples_vectorized = cv.fit_transform(examples) # outputs spare matrix\n",
        "print(cv.vocabulary_)\n",
        "examples_vectorized.A # use .A to convert sparse to dense array for inspection"
      ]
    },
    {
      "cell_type": "code",
      "execution_count": null,
      "metadata": {
        "id": "TVGch-asi8PN",
        "colab": {
          "base_uri": "https://localhost:8080/"
        },
        "outputId": "32bb8897-9176-494f-9a14-e23a71b770b0"
      },
      "outputs": [
        {
          "output_type": "stream",
          "name": "stderr",
          "text": [
            "[nltk_data] Downloading package stopwords to /root/nltk_data...\n",
            "[nltk_data]   Package stopwords is already up-to-date!\n"
          ]
        }
      ],
      "source": [
        "import nltk\n",
        "import scipy.sparse as sp\n",
        "nltk.download('stopwords');\n",
        "stopwords = nltk.corpus.stopwords.words('english')"
      ]
    },
    {
      "cell_type": "code",
      "execution_count": null,
      "metadata": {
        "id": "QfkdxqSHlqGI"
      },
      "outputs": [],
      "source": [
        "### text preprocessing / fitting of training data\n",
        "vectorizer = CountVectorizer(lowercase=True, stop_words=stopwords)\n",
        "tr1 = vectorizer.fit(X_train.titles)\n",
        "tr2 = vectorizer.fit(X_train.summaries)"
      ]
    },
    {
      "cell_type": "code",
      "execution_count": null,
      "metadata": {
        "id": "9GLQWLE_10aW"
      },
      "outputs": [],
      "source": [
        "### text preprocessing and transformation of training dataset\n",
        "vectorized_X_train_titles = tr1.transform(X_train.titles)\n",
        "vectorized_X_train_summaries = tr2.transform(X_train.summaries) \n",
        "# vectorized_X_train = sp.hstack([tr1.transform(X_train.titles),tr2.transform(X_train.summaries)], format='csr')"
      ]
    },
    {
      "cell_type": "code",
      "execution_count": null,
      "metadata": {
        "id": "pYUXDeHJ4PnB"
      },
      "outputs": [],
      "source": [
        "### text preprocessing and transformation of validation dataset\n",
        "vectorized_X_val_titles = tr1.transform(X_val.titles)\n",
        "vectorized_X_val_summaries = tr2.transform(X_val.summaries) \n",
        "# vectorized_X_val = sp.hstack([tr1.transform(X_val.titles), tr2.transform(X_val.summaries)], format='csr')"
      ]
    },
    {
      "cell_type": "code",
      "execution_count": null,
      "metadata": {
        "id": "K_G6NAwgy5G3"
      },
      "outputs": [],
      "source": [
        "### text preprocessing and transformation of test dataset\n",
        "vectorized_X_test_titles = tr1.transform(X_test.titles)\n",
        "vectorized_X_test_summaries = tr2.transform(X_test.summaries) \n",
        "# vectorized_X_test = sp.hstack([tr1.transform(X_test.titles), tr2.transform(X_test.summaries)], format='csr')"
      ]
    },
    {
      "cell_type": "markdown",
      "metadata": {
        "id": "4hjTTAXcuBQV"
      },
      "source": [
        "# Part 3: Model Building [16 points]\n",
        "***\n",
        "\n",
        "Alright, we have our dataset and our labels, now its time to train some models! We are going to build 3 neural network models:\n",
        "- Model A): Use vectorized titles data\n",
        "- Model B): Use vectorized abstract data\n",
        "- Model C): Use both titles AND abstract data\n",
        "\n",
        "When building each model, there are a couple things you need to keep in mind:\n",
        "\n",
        "- You may use the keras sequential or functional API, though the sequential API is probably simplest for the first two models.\n",
        "- The model should have **at least 1 hidden layer**, with a non-linear activation function of your choice.\n",
        "- Your hidden layer(s) can have any number of neurons (though typically this ranges from 32 to 512)\n",
        "- This is a multi-class problem, so we *could* use the `softmax` actiavtion function in our final layer. However because this is a multi-class AND multi-label problem, **we are instead going to use the `sigmoid` activation function with 63 output neurons (one for each of the target classes).** This will make evaluation easy; we can simply use the standard \"accuracy\", \"recall\" and \"precision\" metrics (think of this like training 63 binary classification models with a single neural network!)\n",
        "- You will want to feed in the validation data to the `.fit` method to ensure your accuracy/recall is increasing as your loss decreases.\n",
        "- Train for as many epochs as you see fit (or try using an early stopping callback to stop training once validation precision or recall stops increasing).\n",
        "\n",
        "> 💡 Tip: If model training is taking too long and preventing you from completing the assignment in time, then you can do one of two things. Either limit the number of epochs and do your best to optimize within that constraint (preferred). Or reduce the dataset size by taking a random subset of the data (more risky because your network might not have enough data to learn anything useful). Try your best without these restrictions, but know that you have this option as a backup plan, if you are truly running out of time.\n",
        "\n",
        "Note that **recall** in this example is particularily useful, as most observations only have 1-3 labels (meaning that on average the model should *hopefully* predict low probability scores for ~60 classes). We have provided an example of how recall and precision work below, but all you will have to do is insert them into the `model.compile` method as follows:\n",
        "\n",
        "```\n",
        "model.compile(\n",
        "    loss=tf.keras.losses.BinaryCrossentropy(from_logits=False),\n",
        "    optimizer=tf.keras.optimizers.Adam(),\n",
        "    metrics=[\"accuracy\", tf.keras.metrics.Recall(), tf.keras.metrics.Precision()],\n",
        ")\n",
        "\n",
        "```"
      ]
    },
    {
      "cell_type": "code",
      "execution_count": null,
      "metadata": {
        "id": "tUZX0kAUuBQV",
        "colab": {
          "base_uri": "https://localhost:8080/"
        },
        "outputId": "da2869ed-1c20-4972-9521-9bf750741d9c"
      },
      "outputs": [
        {
          "output_type": "stream",
          "name": "stdout",
          "text": [
            "tf.Tensor(0.6666667, shape=(), dtype=float32)\n",
            "tf.Tensor(0.5714286, shape=(), dtype=float32)\n"
          ]
        }
      ],
      "source": [
        "# Recall/Precision example\n",
        "R = tf.keras.metrics.Recall()\n",
        "P = tf.keras.metrics.Precision()\n",
        "\n",
        "# 3 observations\n",
        "y_true = [\n",
        "    [1,0,0,1,1], # 3 labels\n",
        "    [0,1,0,0,0], # 1 labels\n",
        "    [0,1,1,0,0], # 2 labels\n",
        "]\n",
        "\n",
        "# Sigmoid ouputs\n",
        "y_pred = [\n",
        "    [0.9, 0.1, 0.2, 0.9, 0.4], # recall = 2/3, precision = 2/2 \n",
        "    [0.9, 0.9, 0.1, 0.1, 0.9], # recall = 1/1, precision = 1/3 \n",
        "    [0.1, 0.6, 0.1, 0.3, 0.9], # recall = 1/2, precision = 1/2\n",
        "]\n",
        "\n",
        "# 4 positives predicted correctly / 6 true positives = recall of 0.66\n",
        "print(R(y_true, y_pred))\n",
        "\n",
        "# 4 positives predicted correctly / 7 positives predicted = precision of 0.57\n",
        "print(P(y_true, y_pred))"
      ]
    },
    {
      "cell_type": "markdown",
      "metadata": {
        "id": "ABVur4WJuBQV"
      },
      "source": [
        "## A) Titles Model [5 points]\n",
        "\n",
        "Lets start by building a model that **uses only titles data** as its input feature (ignore 'summaries' for now). \n",
        "\n",
        "Start with a model that only has 1 hidden dense layer (`tf.keras.layers.Dense`), and then try experimenting with additional layers/neurons/activation functions. \n"
      ]
    },
    {
      "cell_type": "code",
      "execution_count": null,
      "metadata": {
        "id": "1_Yu24EUuBQV",
        "scrolled": true
      },
      "outputs": [],
      "source": [
        "model = keras.models.Sequential()\n",
        "model.add(keras.layers.Flatten(input_shape=(vectorized_X_train_titles.shape[1],))) # input_shape=number of features\n",
        "model.add(keras.layers.Dense(100, activation=\"relu\"))\n",
        "#model.add(keras.layers.Dense(100, activation=\"relu\"))\n",
        "model.add(keras.layers.Dense(63, activation=\"sigmoid\"))"
      ]
    },
    {
      "cell_type": "code",
      "execution_count": null,
      "metadata": {
        "id": "_NcY8DPpCIUc"
      },
      "outputs": [],
      "source": [
        "model.compile(\n",
        "    loss=tf.keras.losses.BinaryCrossentropy(from_logits=False),\n",
        "    optimizer=tf.keras.optimizers.Adam(),\n",
        "    metrics=[\"accuracy\"]) #, tf.keras.metrics.Recall(), tf.keras.metrics.Precision()"
      ]
    },
    {
      "cell_type": "code",
      "execution_count": null,
      "metadata": {
        "id": "8krLTL_PDsuk",
        "colab": {
          "base_uri": "https://localhost:8080/",
          "height": 428
        },
        "outputId": "8b20ddb8-b009-495d-c284-e91060f5067e"
      },
      "outputs": [
        {
          "output_type": "stream",
          "name": "stdout",
          "text": [
            "Epoch 1/3\n",
            "731/731 [==============================] - 7s 9ms/step - loss: 0.1068 - accuracy: 0.6283 - val_loss: 0.0560 - val_accuracy: 0.6767\n",
            "Epoch 2/3\n",
            "731/731 [==============================] - 8s 10ms/step - loss: 0.0502 - accuracy: 0.6835 - val_loss: 0.0519 - val_accuracy: 0.6782\n",
            "Epoch 3/3\n",
            "731/731 [==============================] - 8s 10ms/step - loss: 0.0432 - accuracy: 0.6946 - val_loss: 0.0510 - val_accuracy: 0.6739\n"
          ]
        },
        {
          "output_type": "display_data",
          "data": {
            "text/plain": [
              "<Figure size 576x360 with 1 Axes>"
            ],
            "image/png": "[encoded data removed]"
          },
          "metadata": {
            "needs_background": "light"
          }
        }
      ],
      "source": [
        "titles = model.fit(vectorized_X_train_titles.A, y_train, epochs=3, validation_data=(vectorized_X_val_titles.A, y_val))\n",
        "pd.DataFrame(titles.history).plot(figsize=(8, 5))\n",
        "plt.grid(True)\n",
        "plt.gca().set_ylim(0, 1)\n",
        "plt.show()"
      ]
    },
    {
      "cell_type": "markdown",
      "source": [
        "model converged, loss is going down, accuracy is going up, val metrics are close to the training metrics hence no overfitting"
      ],
      "metadata": {
        "id": "BW2reI4QNDvW"
      }
    },
    {
      "cell_type": "markdown",
      "metadata": {
        "id": "xvSfyBnNuBQV"
      },
      "source": [
        "## B) Summaries Model [3 points]\n",
        "\n",
        "Now lets try train the exact same model, but this time using only the summaries vectorized data. Do not use the 'titles' feature."
      ]
    },
    {
      "cell_type": "code",
      "execution_count": null,
      "metadata": {
        "id": "kBfeKtqsuBQW",
        "scrolled": true,
        "colab": {
          "base_uri": "https://localhost:8080/",
          "height": 428
        },
        "outputId": "abb9a9d7-618b-4d62-d3e7-23771c5e19af"
      },
      "outputs": [
        {
          "output_type": "stream",
          "name": "stdout",
          "text": [
            "Epoch 1/3\n",
            "731/731 [==============================] - 6s 9ms/step - loss: 0.0484 - accuracy: 0.6981 - val_loss: 0.0478 - val_accuracy: 0.7052\n",
            "Epoch 2/3\n",
            "731/731 [==============================] - 8s 11ms/step - loss: 0.0243 - accuracy: 0.7232 - val_loss: 0.0520 - val_accuracy: 0.7002\n",
            "Epoch 3/3\n",
            "731/731 [==============================] - 8s 10ms/step - loss: 0.0137 - accuracy: 0.7261 - val_loss: 0.0574 - val_accuracy: 0.6901\n"
          ]
        },
        {
          "output_type": "display_data",
          "data": {
            "text/plain": [
              "<Figure size 576x360 with 1 Axes>"
            ],
            "image/png": "[encoded data removed]"
          },
          "metadata": {
            "needs_background": "light"
          }
        }
      ],
      "source": [
        "summaries = model.fit(vectorized_X_train_summaries.A, y_train, epochs=3, validation_data=(vectorized_X_val_summaries.A, y_val))\n",
        "pd.DataFrame(summaries.history).plot(figsize=(8, 5))\n",
        "plt.grid(True)\n",
        "plt.gca().set_ylim(0, 1)\n",
        "plt.show()"
      ]
    },
    {
      "cell_type": "code",
      "source": [
        "\n"
      ],
      "metadata": {
        "id": "CtPf-JvMPiBh"
      },
      "execution_count": null,
      "outputs": []
    },
    {
      "cell_type": "markdown",
      "metadata": {
        "id": "O0_uD41OuBQW"
      },
      "source": [
        "## C) Titles and Summaries Model [6 points]\n",
        "\n",
        "Now lets create a model that accepts both inputs! You will need to adjust your model to accept two inputs, and add a concatenation layer that fuses them together in a single tensor. Then send the concatenated input directly through the dense layers just as you did above. \n",
        "\n",
        "> **NOTE:** Remember to include both inputs when calling the `model.fit` method. Also note that that your inputs should be larger than the inputs for the models above. This may slow down training significantly (depending on your hardware), so you may want to try increasing the batch size to speed things up (a batch size of 2024 is probably as high as you want to go)."
      ]
    },
    {
      "cell_type": "code",
      "source": [
        "A = vectorized_X_train_titles.shape[1]\n",
        "B = vectorized_X_train_summaries.shape[1]"
      ],
      "metadata": {
        "id": "IOtg21fwY10E"
      },
      "execution_count": null,
      "outputs": []
    },
    {
      "cell_type": "code",
      "source": [
        "input_titles = keras.layers.Input(shape=[A])\n",
        "input_summaries = keras.layers.Input(shape=[B])\n",
        "hidden1 = keras.layers.Dense(30, activation=\"relu\")(input_titles)\n",
        "hidden2 = keras.layers.Dense(30, activation=\"relu\")(input_summaries)\n",
        "concat = keras.layers.Concatenate(axis=1)([hidden1, hidden2])\n",
        "output = keras.layers.Dense(63, activation=\"sigmoid\")(concat)\n",
        "model2 = keras.models.Model(inputs=[input_titles,input_summaries], outputs=[output])"
      ],
      "metadata": {
        "id": "5vQhmpggZ7G2"
      },
      "execution_count": null,
      "outputs": []
    },
    {
      "cell_type": "code",
      "source": [
        "model2.compile(\n",
        "    loss=tf.keras.losses.BinaryCrossentropy(from_logits=False),\n",
        "    optimizer=tf.keras.optimizers.Adam(),\n",
        "    metrics=[\"accuracy\"]) #, tf.keras.metrics.Recall(), tf.keras.metrics.Precision()"
      ],
      "metadata": {
        "id": "b83iVoqUbKey"
      },
      "execution_count": null,
      "outputs": []
    },
    {
      "cell_type": "code",
      "source": [
        "history = model2.fit((vectorized_X_train_titles.A, vectorized_X_train_summaries.A), y_train, epochs=3,validation_data=((vectorized_X_val_titles.A, vectorized_X_val_summaries.A), y_val))\n",
        "pd.DataFrame(history.history).plot(figsize=(8, 5))\n",
        "plt.grid(True)\n",
        "plt.gca().set_ylim(0, 1)\n",
        "plt.show()"
      ],
      "metadata": {
        "colab": {
          "base_uri": "https://localhost:8080/",
          "height": 428
        },
        "id": "nHPQPi7xUJTX",
        "outputId": "07e8c5d0-11c0-45b1-e103-fecb19043b95"
      },
      "execution_count": null,
      "outputs": [
        {
          "output_type": "stream",
          "name": "stdout",
          "text": [
            "Epoch 1/3\n",
            "731/731 [==============================] - 9s 9ms/step - loss: 0.0840 - accuracy: 0.6514 - val_loss: 0.0511 - val_accuracy: 0.7126\n",
            "Epoch 2/3\n",
            "731/731 [==============================] - 7s 9ms/step - loss: 0.0427 - accuracy: 0.7131 - val_loss: 0.0472 - val_accuracy: 0.7139\n",
            "Epoch 3/3\n",
            "731/731 [==============================] - 7s 9ms/step - loss: 0.0327 - accuracy: 0.7226 - val_loss: 0.0473 - val_accuracy: 0.6975\n"
          ]
        },
        {
          "output_type": "display_data",
          "data": {
            "text/plain": [
              "<Figure size 576x360 with 1 Axes>"
            ],
            "image/png": "[encoded data removed]"
          },
          "metadata": {
            "needs_background": "light"
          }
        }
      ]
    },
    {
      "cell_type": "code",
      "source": [
        ""
      ],
      "metadata": {
        "id": "NijO1a8FhTRi"
      },
      "execution_count": null,
      "outputs": []
    },
    {
      "cell_type": "markdown",
      "metadata": {
        "id": "si8Dv7dGuBQW"
      },
      "source": [
        "## D) Evaluate Models [2 points]\n",
        "\n",
        "Evaluate all 3 models on the test set. Which one performed best? Did the third model yield a large enough accuracy boost (if at all) to warrant the increased training time?"
      ]
    },
    {
      "cell_type": "code",
      "execution_count": null,
      "metadata": {
        "id": "QodTF7AtuBQW",
        "colab": {
          "base_uri": "https://localhost:8080/",
          "height": 428
        },
        "outputId": "455bab97-99bf-47c8-fd59-25f03f8e4b3a"
      },
      "outputs": [
        {
          "output_type": "stream",
          "name": "stdout",
          "text": [
            "Epoch 1/3\n",
            "731/731 [==============================] - 8s 10ms/step - loss: 0.1060 - accuracy: 0.6250 - val_loss: 0.0554 - val_accuracy: 0.6824\n",
            "Epoch 2/3\n",
            "731/731 [==============================] - 8s 11ms/step - loss: 0.0498 - accuracy: 0.6839 - val_loss: 0.0517 - val_accuracy: 0.6864\n",
            "Epoch 3/3\n",
            "731/731 [==============================] - 8s 12ms/step - loss: 0.0427 - accuracy: 0.6959 - val_loss: 0.0509 - val_accuracy: 0.6810\n"
          ]
        },
        {
          "output_type": "display_data",
          "data": {
            "text/plain": [
              "<Figure size 576x360 with 1 Axes>"
            ],
            "image/png": "[encoded data removed]"
          },
          "metadata": {
            "needs_background": "light"
          }
        }
      ],
      "source": [
        "# model_1 (titles model)\n",
        "titles_test = model.fit(vectorized_X_train_titles.A, y_train, epochs=3, validation_data=(vectorized_X_test_titles.A, y_test))\n",
        "pd.DataFrame(titles_test.history).plot(figsize=(8, 5))\n",
        "plt.grid(True)\n",
        "plt.gca().set_ylim(0, 1)\n",
        "plt.show()"
      ]
    },
    {
      "cell_type": "code",
      "source": [
        "# model_2 (summaries model)\n",
        "summaries_test = model.fit(vectorized_X_train_summaries.A, y_train, epochs=10, validation_data=(vectorized_X_test_summaries.A, y_test)) \n",
        "pd.DataFrame(summaries_test.history).plot(figsize=(8, 5))\n",
        "plt.grid(True)\n",
        "plt.gca().set_ylim(0, 1)\n",
        "plt.show()"
      ],
      "metadata": {
        "colab": {
          "base_uri": "https://localhost:8080/",
          "height": 671
        },
        "id": "ViXyO44jkIGX",
        "outputId": "0938f647-fadf-4e61-e6fa-de0d9eda59c6"
      },
      "execution_count": null,
      "outputs": [
        {
          "output_type": "stream",
          "name": "stdout",
          "text": [
            "Epoch 1/10\n",
            "731/731 [==============================] - 7s 10ms/step - loss: 0.0485 - accuracy: 0.6922 - val_loss: 0.0476 - val_accuracy: 0.7053\n",
            "Epoch 2/10\n",
            "731/731 [==============================] - 9s 12ms/step - loss: 0.0241 - accuracy: 0.7236 - val_loss: 0.0510 - val_accuracy: 0.6939\n",
            "Epoch 3/10\n",
            "731/731 [==============================] - 8s 12ms/step - loss: 0.0137 - accuracy: 0.7243 - val_loss: 0.0575 - val_accuracy: 0.6960\n",
            "Epoch 4/10\n",
            "731/731 [==============================] - 9s 12ms/step - loss: 0.0072 - accuracy: 0.7245 - val_loss: 0.0653 - val_accuracy: 0.6907\n",
            "Epoch 5/10\n",
            "731/731 [==============================] - 9s 12ms/step - loss: 0.0035 - accuracy: 0.7237 - val_loss: 0.0738 - val_accuracy: 0.6899\n",
            "Epoch 6/10\n",
            "731/731 [==============================] - 9s 12ms/step - loss: 0.0017 - accuracy: 0.7202 - val_loss: 0.0827 - val_accuracy: 0.6867\n",
            "Epoch 7/10\n",
            "731/731 [==============================] - 9s 12ms/step - loss: 9.5839e-04 - accuracy: 0.7184 - val_loss: 0.0910 - val_accuracy: 0.6773\n",
            "Epoch 8/10\n",
            "731/731 [==============================] - 9s 12ms/step - loss: 6.1134e-04 - accuracy: 0.7159 - val_loss: 0.0978 - val_accuracy: 0.6777\n",
            "Epoch 9/10\n",
            "731/731 [==============================] - 9s 12ms/step - loss: 3.6785e-04 - accuracy: 0.7150 - val_loss: 0.1041 - val_accuracy: 0.6746\n",
            "Epoch 10/10\n",
            "731/731 [==============================] - 9s 12ms/step - loss: 2.7781e-04 - accuracy: 0.7138 - val_loss: 0.1095 - val_accuracy: 0.6756\n"
          ]
        },
        {
          "output_type": "display_data",
          "data": {
            "text/plain": [
              "<Figure size 576x360 with 1 Axes>"
            ],
            "image/png": "[encoded data removed]"
          },
          "metadata": {
            "needs_background": "light"
          }
        }
      ]
    },
    {
      "cell_type": "code",
      "source": [
        "# model_3 (model on whole dataset)\n",
        "history_test = model2.fit((vectorized_X_train_titles.A, vectorized_X_train_summaries.A), y_train, epochs=2,validation_data=((vectorized_X_test_titles.A, vectorized_X_test_summaries.A), y_test))\n",
        "pd.DataFrame(history_test.history).plot(figsize=(8, 5))\n",
        "plt.grid(True)\n",
        "plt.gca().set_ylim(0, 1)\n",
        "plt.show()"
      ],
      "metadata": {
        "colab": {
          "base_uri": "https://localhost:8080/",
          "height": 393
        },
        "id": "WOTT730Rjly_",
        "outputId": "3e8ccc3e-e5c7-42c6-e8b2-73b0bc928740"
      },
      "execution_count": null,
      "outputs": [
        {
          "output_type": "stream",
          "name": "stdout",
          "text": [
            "Epoch 1/2\n",
            "731/731 [==============================] - 9s 11ms/step - loss: 0.0780 - accuracy: 0.6611 - val_loss: 0.0497 - val_accuracy: 0.7131\n",
            "Epoch 2/2\n",
            "731/731 [==============================] - 5s 7ms/step - loss: 0.0409 - accuracy: 0.7165 - val_loss: 0.0467 - val_accuracy: 0.7114\n"
          ]
        },
        {
          "output_type": "display_data",
          "data": {
            "text/plain": [
              "<Figure size 576x360 with 1 Axes>"
            ],
            "image/png": "[encoded data removed]"
          },
          "metadata": {
            "needs_background": "light"
          }
        }
      ]
    }
  ],
  "metadata": {
    "accelerator": "TPU",
    "colab": {
      "collapsed_sections": [],
      "name": "Assignment 4 - Multi-label Text Classification.ipynb",
      "provenance": [],
      "machine_shape": "hm",
      "include_colab_link": true
    },
    "gpuClass": "standard",
    "kernelspec": {
      "display_name": "Python 3 (ipykernel)",
      "language": "python",
      "name": "python3"
    },
    "language_info": {
      "codemirror_mode": {
        "name": "ipython",
        "version": 3
      },
      "file_extension": ".py",
      "mimetype": "text/x-python",
      "name": "python",
      "nbconvert_exporter": "python",
      "pygments_lexer": "ipython3",
      "version": "3.10.4"
    }
  },
  "nbformat": 4,
  "nbformat_minor": 0
}